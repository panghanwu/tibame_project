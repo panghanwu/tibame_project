{
  "nbformat": 4,
  "nbformat_minor": 0,
  "metadata": {
    "colab": {
      "name": "recommendation_oop.ipynb",
      "provenance": [],
      "mount_file_id": "1WYr4AVzE8TOJQzdqdBPAk6h_WAoyGoxO",
      "authorship_tag": "ABX9TyOTQ18bG4MBLW43/ZvZsG0n",
      "include_colab_link": true
    },
    "kernelspec": {
      "name": "python3",
      "display_name": "Python 3"
    }
  },
  "cells": [
    {
      "cell_type": "markdown",
      "metadata": {
        "id": "view-in-github",
        "colab_type": "text"
      },
      "source": [
        "<a href=\"https://colab.research.google.com/github/panghanwu/tibame_project/blob/main/recommendation_oop.ipynb\" target=\"_parent\"><img src=\"https://colab.research.google.com/assets/colab-badge.svg\" alt=\"Open In Colab\"/></a>"
      ]
    },
    {
      "cell_type": "markdown",
      "metadata": {
        "id": "3qgKP2qlZSc7"
      },
      "source": [
        "# 模糊搜尋功能\n",
        "---\n",
        "\n",
        "### 會使用到的套件\n",
        "- gensim\n",
        "- py2neo\n",
        "- numpy"
      ]
    },
    {
      "cell_type": "code",
      "metadata": {
        "id": "WW6zOjwkIaZc",
        "colab": {
          "base_uri": "https://localhost:8080/"
        },
        "outputId": "201df220-3a39-4f9f-8936-08d4756d56f8"
      },
      "source": [
        "# 下載fastText繁體中文模型並解壓縮\n",
        "!wget https://dl.fbaipublicfiles.com/fasttext/vectors-crawl/cc.zh.300.bin.gz\n",
        "!gunzip cc.zh.300.bin.gz\n"
      ],
      "execution_count": 1,
      "outputs": [
        {
          "output_type": "stream",
          "text": [
            "--2020-12-03 04:11:39--  https://dl.fbaipublicfiles.com/fasttext/vectors-crawl/cc.zh.300.bin.gz\n",
            "Resolving dl.fbaipublicfiles.com (dl.fbaipublicfiles.com)... 104.22.74.142, 172.67.9.4, 104.22.75.142, ...\n",
            "Connecting to dl.fbaipublicfiles.com (dl.fbaipublicfiles.com)|104.22.74.142|:443... connected.\n",
            "HTTP request sent, awaiting response... 200 OK\n",
            "Length: 4478681770 (4.2G) [application/octet-stream]\n",
            "Saving to: ‘cc.zh.300.bin.gz’\n",
            "\n",
            "cc.zh.300.bin.gz    100%[===================>]   4.17G  24.1MB/s    in 3m 1s   \n",
            "\n",
            "2020-12-03 04:14:40 (23.6 MB/s) - ‘cc.zh.300.bin.gz’ saved [4478681770/4478681770]\n",
            "\n"
          ],
          "name": "stdout"
        }
      ]
    },
    {
      "cell_type": "code",
      "metadata": {
        "colab": {
          "base_uri": "https://localhost:8080/",
          "height": 1000
        },
        "id": "D11X3ygE3czG",
        "outputId": "6d782410-79c7-4cf3-ea01-3682a9e3debc"
      },
      "source": [
        "# py2neo是python控制neo4j的套件\n",
        "# Colab並未內建需要另外安裝\n",
        "!pip install py2neo"
      ],
      "execution_count": 2,
      "outputs": [
        {
          "output_type": "stream",
          "text": [
            "Collecting py2neo\n",
            "\u001b[?25l  Downloading https://files.pythonhosted.org/packages/4f/86/4cb8118794ab5965335bc8f3315c414a05cbbe5d9f978f8fcbed1bc819af/py2neo-2020.1.1-py2.py3-none-any.whl (185kB)\n",
            "\r\u001b[K     |█▊                              | 10kB 16.8MB/s eta 0:00:01\r\u001b[K     |███▌                            | 20kB 15.2MB/s eta 0:00:01\r\u001b[K     |█████▎                          | 30kB 9.4MB/s eta 0:00:01\r\u001b[K     |███████                         | 40kB 8.0MB/s eta 0:00:01\r\u001b[K     |████████▉                       | 51kB 4.4MB/s eta 0:00:01\r\u001b[K     |██████████▋                     | 61kB 4.8MB/s eta 0:00:01\r\u001b[K     |████████████▍                   | 71kB 5.0MB/s eta 0:00:01\r\u001b[K     |██████████████▏                 | 81kB 5.3MB/s eta 0:00:01\r\u001b[K     |███████████████▉                | 92kB 5.2MB/s eta 0:00:01\r\u001b[K     |█████████████████▋              | 102kB 5.7MB/s eta 0:00:01\r\u001b[K     |███████████████████▍            | 112kB 5.7MB/s eta 0:00:01\r\u001b[K     |█████████████████████▏          | 122kB 5.7MB/s eta 0:00:01\r\u001b[K     |███████████████████████         | 133kB 5.7MB/s eta 0:00:01\r\u001b[K     |████████████████████████▊       | 143kB 5.7MB/s eta 0:00:01\r\u001b[K     |██████████████████████████▌     | 153kB 5.7MB/s eta 0:00:01\r\u001b[K     |████████████████████████████▎   | 163kB 5.7MB/s eta 0:00:01\r\u001b[K     |██████████████████████████████  | 174kB 5.7MB/s eta 0:00:01\r\u001b[K     |███████████████████████████████▊| 184kB 5.7MB/s eta 0:00:01\r\u001b[K     |████████████████████████████████| 194kB 5.7MB/s \n",
            "\u001b[?25hCollecting pansi>=2020.7.3\n",
            "  Downloading https://files.pythonhosted.org/packages/0b/15/7972e08b7ec14a8b10d5ff206c644d4478906c909c134123ed7e6bd16724/pansi-2020.7.3-py2.py3-none-any.whl\n",
            "Requirement already satisfied: pytz in /usr/local/lib/python3.6/dist-packages (from py2neo) (2018.9)\n",
            "Collecting monotonic\n",
            "  Downloading https://files.pythonhosted.org/packages/ac/aa/063eca6a416f397bd99552c534c6d11d57f58f2e94c14780f3bbf818c4cf/monotonic-1.5-py2.py3-none-any.whl\n",
            "Requirement already satisfied: packaging in /usr/local/lib/python3.6/dist-packages (from py2neo) (20.4)\n",
            "Collecting neotime~=1.7.4\n",
            "  Downloading https://files.pythonhosted.org/packages/0b/7e/ca368a8d8e288be1352d4e2df35da1e01f8aaffbf526695df71630bcb8a6/neotime-1.7.4.tar.gz\n",
            "Collecting cryptography\n",
            "\u001b[?25l  Downloading https://files.pythonhosted.org/packages/4c/a2/6565c5271a79e3c96d7a079053b4d8408a740d4bf365f0f5f244a807bd09/cryptography-3.2.1-cp35-abi3-manylinux2010_x86_64.whl (2.6MB)\n",
            "\u001b[K     |████████████████████████████████| 2.6MB 47.1MB/s \n",
            "\u001b[?25hCollecting english\n",
            "  Downloading https://files.pythonhosted.org/packages/05/1d/f1dd2cbd075c049a753815a0d1f29f29be3c09a62fb01a9ba74356bfee08/english-2020.7.0-py2.py3-none-any.whl\n",
            "Collecting prompt-toolkit~=2.0.7\n",
            "\u001b[?25l  Downloading https://files.pythonhosted.org/packages/87/61/2dfea88583d5454e3a64f9308a686071d58d59a55db638268a6413e1eb6d/prompt_toolkit-2.0.10-py3-none-any.whl (340kB)\n",
            "\u001b[K     |████████████████████████████████| 348kB 48.2MB/s \n",
            "\u001b[?25hCollecting docker\n",
            "\u001b[?25l  Downloading https://files.pythonhosted.org/packages/ef/b7/eb7b7138bb5e6d28cf84fa586fe594619ca097b6207caa5f2ebe0c66a4ed/docker-4.4.0-py2.py3-none-any.whl (146kB)\n",
            "\u001b[K     |████████████████████████████████| 153kB 45.9MB/s \n",
            "\u001b[?25hRequirement already satisfied: urllib3 in /usr/local/lib/python3.6/dist-packages (from py2neo) (1.24.3)\n",
            "Requirement already satisfied: six>=1.15.0 in /usr/local/lib/python3.6/dist-packages (from py2neo) (1.15.0)\n",
            "Requirement already satisfied: certifi in /usr/local/lib/python3.6/dist-packages (from py2neo) (2020.11.8)\n",
            "Requirement already satisfied: pygments>=2.0.0 in /usr/local/lib/python3.6/dist-packages (from py2neo) (2.6.1)\n",
            "Requirement already satisfied: pyparsing>=2.0.2 in /usr/local/lib/python3.6/dist-packages (from packaging->py2neo) (2.4.7)\n",
            "Requirement already satisfied: cffi!=1.11.3,>=1.8 in /usr/local/lib/python3.6/dist-packages (from cryptography->py2neo) (1.14.3)\n",
            "Requirement already satisfied: wcwidth in /usr/local/lib/python3.6/dist-packages (from prompt-toolkit~=2.0.7->py2neo) (0.2.5)\n",
            "Collecting websocket-client>=0.32.0\n",
            "\u001b[?25l  Downloading https://files.pythonhosted.org/packages/4c/5f/f61b420143ed1c8dc69f9eaec5ff1ac36109d52c80de49d66e0c36c3dfdf/websocket_client-0.57.0-py2.py3-none-any.whl (200kB)\n",
            "\u001b[K     |████████████████████████████████| 204kB 46.9MB/s \n",
            "\u001b[?25hRequirement already satisfied: requests!=2.18.0,>=2.14.2 in /usr/local/lib/python3.6/dist-packages (from docker->py2neo) (2.23.0)\n",
            "Requirement already satisfied: pycparser in /usr/local/lib/python3.6/dist-packages (from cffi!=1.11.3,>=1.8->cryptography->py2neo) (2.20)\n",
            "Requirement already satisfied: chardet<4,>=3.0.2 in /usr/local/lib/python3.6/dist-packages (from requests!=2.18.0,>=2.14.2->docker->py2neo) (3.0.4)\n",
            "Requirement already satisfied: idna<3,>=2.5 in /usr/local/lib/python3.6/dist-packages (from requests!=2.18.0,>=2.14.2->docker->py2neo) (2.10)\n",
            "Building wheels for collected packages: neotime\n",
            "  Building wheel for neotime (setup.py) ... \u001b[?25l\u001b[?25hdone\n",
            "  Created wheel for neotime: filename=neotime-1.7.4-cp36-none-any.whl size=20543 sha256=3a0362feb8a3e4c3c7679e45a81b3f2c8856b618f0cac91c0725280817ecd656\n",
            "  Stored in directory: /root/.cache/pip/wheels/d4/b4/c4/ab867cd0ac9e667f8cd269f9364fd1cb8ee75fe50f5ce97c79\n",
            "Successfully built neotime\n",
            "\u001b[31mERROR: jupyter-console 5.2.0 has requirement prompt-toolkit<2.0.0,>=1.0.0, but you'll have prompt-toolkit 2.0.10 which is incompatible.\u001b[0m\n",
            "\u001b[31mERROR: ipython 5.5.0 has requirement prompt-toolkit<2.0.0,>=1.0.4, but you'll have prompt-toolkit 2.0.10 which is incompatible.\u001b[0m\n",
            "Installing collected packages: pansi, monotonic, neotime, cryptography, english, prompt-toolkit, websocket-client, docker, py2neo\n",
            "  Found existing installation: prompt-toolkit 1.0.18\n",
            "    Uninstalling prompt-toolkit-1.0.18:\n",
            "      Successfully uninstalled prompt-toolkit-1.0.18\n",
            "Successfully installed cryptography-3.2.1 docker-4.4.0 english-2020.7.0 monotonic-1.5 neotime-1.7.4 pansi-2020.7.3 prompt-toolkit-2.0.10 py2neo-2020.1.1 websocket-client-0.57.0\n"
          ],
          "name": "stdout"
        },
        {
          "output_type": "display_data",
          "data": {
            "application/vnd.colab-display-data+json": {
              "pip_warning": {
                "packages": [
                  "prompt_toolkit"
                ]
              }
            }
          },
          "metadata": {
            "tags": []
          }
        }
      ]
    },
    {
      "cell_type": "code",
      "metadata": {
        "id": "yPziF_zehtjU"
      },
      "source": [
        "from gensim.models.fasttext import FastText\n",
        "\n",
        "word2vec = FastText.load_fasttext_format('cc.zh.300.bin')"
      ],
      "execution_count": 3,
      "outputs": []
    },
    {
      "cell_type": "code",
      "metadata": {
        "id": "kiiOT5ElBjXG"
      },
      "source": [
        "import numpy as np\n",
        "import py2neo as neo\n",
        "\n",
        "\n",
        "class Neo4jRecomBot():\n",
        "    # 1. __init__: 連上Neo4j伺服器\n",
        "    # 2. fussy_search: 模糊搜尋\n",
        "    # 3. same_search: 同款搜尋\n",
        "    # 4. fit_search: 穿搭搜尋\n",
        "    def __init__(self, sever_link, password, word2vec):\n",
        "        # 載入圖資料庫\n",
        "        self.graph = neo.Graph(sever_link, password=password)\n",
        "        # 提取出產品清單\n",
        "        self.product_list = list(neo.NodeMatch(self.graph, labels=frozenset(['Product'])))\n",
        "        # 載入語料詞向量檔\n",
        "        self.word2vec = word2vec\n",
        "    \n",
        "\n",
        "    def fussy_search(self, keyword, gender=None):\n",
        "        assert gender in ['man', 'woman', None]\n",
        "        \n",
        "        # 依據性別更改商品節點清單\n",
        "        if gender == 'man':\n",
        "            search_list = [x for x in self.product_list if x['sn'][0]=='M']\n",
        "        elif gender == 'woman':\n",
        "            search_list = [x for x in self.product_list if x['sn'][0]=='F']\n",
        "        else:\n",
        "            search_list = self.product_list\n",
        "\n",
        "        # 把辨識描述用word2vec轉成300為的詞向量\n",
        "        key_vec = np.zeros(300)\n",
        "        for d in keyword:\n",
        "            # 所有詞向量加總\n",
        "            key_vec += self.word2vec.wv[d]\n",
        "\n",
        "        # 把產品詞向量存成矩陣\n",
        "        pro_vec = np.empty((len(search_list),300))\n",
        "        for i, n in enumerate(search_list):\n",
        "            str_vec = n['vector']\n",
        "            pro_vec[i] = np.fromstring(str_vec, sep=' ')\n",
        "        \n",
        "        # 找出夾角最小（最大cos）商品的索引\n",
        "        dot  = np.dot(key_vec, pro_vec.T)\n",
        "        norm = np.linalg.norm(key_vec) * np.linalg.norm(pro_vec, axis=1)\n",
        "        cos  = dot / norm\n",
        "        idx  = np.argmax(cos)\n",
        "\n",
        "        return (search_list[idx],\n",
        "                search_list[idx]['sn'], \n",
        "                search_list[idx]['name'], \n",
        "                search_list[idx]['image_url'])\n",
        "        \n",
        "    # 輸入商品節點回傳同款商品\n",
        "    def same_search(self, product):\n",
        "        same_relate = list(neo.RelationshipMatch(self.graph, \n",
        "                                                 nodes=[product], \n",
        "                                                 r_type='SAME'))\n",
        "        same_node = same_relate[0].end_node\n",
        "        if same_node != []:\n",
        "            return (same_node,\n",
        "                    same_node['sn'],\n",
        "                    same_node['name'],\n",
        "                    same_node['image_url'])\n",
        "        else:\n",
        "            return '無同款'   \n",
        "\n",
        "    def fit_search(self, product, top=1):\n",
        "        fit_relate = neo.RelationshipMatch(self.graph, nodes=[product], r_type='FIT')\n",
        "        fit_rank = list(fit_relate.order_by('_.score DESC'))\n",
        "        fit_score = fit_rank[top-1]['score']\n",
        "        fit_node = fit_rank[top-1].end_node\n",
        "        return (fit_node, \n",
        "                fit_score,\n",
        "                fit_node['sn'],\n",
        "                fit_node['name'],\n",
        "                fit_node['image_url'])\n"
      ],
      "execution_count": 11,
      "outputs": []
    },
    {
      "cell_type": "markdown",
      "metadata": {
        "id": "ZNlRALtM4Hsg"
      },
      "source": [
        "### 範例"
      ]
    },
    {
      "cell_type": "code",
      "metadata": {
        "id": "9WBgj7vcEWGh",
        "colab": {
          "base_uri": "https://localhost:8080/"
        },
        "outputId": "aa087dc7-f2a0-4ae1-b17e-52f2f94cbb04"
      },
      "source": [
        "# 建立物件\n",
        "recommdation = Neo4jRecomBot('bolt://54.234.73.102:33059', 'whistle-ratios-poles', word2vec)\n",
        "\n",
        "recommdation.graph"
      ],
      "execution_count": 12,
      "outputs": [
        {
          "output_type": "execute_result",
          "data": {
            "text/plain": [
              "Graph('bolt://neo4j@54.234.73.102:33059')"
            ]
          },
          "metadata": {
            "tags": []
          },
          "execution_count": 12
        }
      ]
    },
    {
      "cell_type": "markdown",
      "metadata": {
        "id": "lbjyjV_9npAq"
      },
      "source": [
        "### 模糊搜尋"
      ]
    },
    {
      "cell_type": "code",
      "metadata": {
        "colab": {
          "base_uri": "https://localhost:8080/"
        },
        "id": "kL_5wutDU98j",
        "outputId": "1ced9aaa-9be1-4670-f85a-719dc717d8ac"
      },
      "source": [
        "# 模糊搜尋\n",
        "keyword = ['拼接','很熱','素色','短袖']\n",
        "\n",
        "recommdation.fussy_search(keyword, gender='man')"
      ],
      "execution_count": 13,
      "outputs": [
        {
          "output_type": "stream",
          "text": [
            "/usr/local/lib/python3.6/dist-packages/ipykernel_launcher.py:40: DeprecationWarning: string or file could not be read to its end due to unmatched data; this will raise a ValueError in the future.\n"
          ],
          "name": "stderr"
        },
        {
          "output_type": "execute_result",
          "data": {
            "text/plain": [
              "(Node('Product', description='男裝防潑水保暖HEAT PADDED夾層外套 棕色', image_url='https://im.uniqlo.com/images/tw/gu/pc/goods/326106/item/36_326106.jpg', name='防潑水保暖夾層外套', sn='MU10', vector='-0.40450905263423920.33090162929147482.7399329561740160.69817805290222170.09941582195460796-0.06349645555019379-0.3571976562961936-1.34178243018686772.274991698563099-0.5456850528717041-1.3174986348021775-0.240445189177989960.8712516594678164-0.5117278490215541.1381994886323810.9088711404183414-0.540621554479003-0.004292753525078297-0.074846197851002221.0640525212511420.3405560222454369-0.041701512411236760.27526096859946847-0.3702615776564926-0.0148667264729738241.1011846736073494-1.8057769453153014-0.7327896218630485-0.3526333924382925-0.0576067883521318440.076538130640983580.47523917164653540.220774346031248570.8698887107893825-0.075629606842994691.2496846909634770.7198170758783817-0.8391554597765207-0.92060064338147640.5164873488247395-0.3034529108554125-0.60474186902865770.48201547190546990.48996062576770780.79388862568885090.44497913063969463-1.45715112984180451.0042775487527251-0.2025973009876907-0.2783833763387521.7005868591368198-0.071229029446840290.54873251914978031.0045845322310925-0.8994524935260415-1.26694683404639361.0258278548717499-0.5689127957448363-0.30821481812745330.418136770837008950.404816258698701860.06093808263540268-0.90877969190478321.3482425566762686-0.6684921053238213-0.5222660402068868-0.1340158311650157-0.26973717147484420.19995380286127330.062322077807039020.1343948207795621.2313785904552788-0.101953692734241490.0416739294305443760.32302164286375046-0.0052703991532325745-1.0021644169464707-0.5823591705411673-0.27015852555632590.6175472596660256-0.08532180706970394-0.1744993356987834-0.9585699085146189-0.494074389338493350.0338430870324373250.6755569779779762-0.66446525417268280.54090277664363381.83640319481492040.5018742308020592-1.0514532893430442-0.132398811168968680.35774082317948340.090410204138606791.0574802756309510.7929537687450647-1.2001000549644232-0.9155707019381225-0.4746414967812598-0.06991809513419867-0.51465548854321240.42524253297597170.35457365540787580.14366120658814907-0.2714860215783119-0.022618113085627556-0.9793091174215078-0.142395649105310440.34324712213128805-1.0543583221733570.9308332363143563-0.6006743066536728-0.220450618420727550.1374288685619831-1.1636891011148691-0.75048106862232090.1988082556053996-0.61075210804119710.7254040017724037-0.4299459848552942-0.27441520895808935-0.7942738726269454-1.0995640419423580.4079244571039453-0.8769688823958859-0.173371419310569760.7511858465149999-2.29823310545180.65510175656527280.0819647591561079-2.7340455874800680.222567882854491470.0159916905686259270.27706346497870980.08852024283260107-0.184227790683507920.326498642534716050.3516037315130234-0.20052982959896326-1.1947117606177926-0.8873332096263766-0.7700972687453032-0.356168315745890140.94178196415305141.47402797266840930.42137910920428110.59416517149657010.014911415986716747-0.73880738555453720.7335810163058342.16546546295285220.7880661585368216-0.4911554269492626-2.07227147370576860.59351571742445230.84570473618805410.8057934716343880.068519202060997490.0221354374662041660.7503072479739785-0.0019234740175306797-0.33021438331343234-0.9535809024237096-0.0175547227263450620.55129325785674151.178864087909460.3772771321237087-0.8645666921511292-0.17072548047872260.56739621167071160.27291510440409184-0.116267669945955280.6065813684836030.7567950999364257-1.5760849155485630.3082292899489403-0.9868117931764573-0.86309554241597650.5074842246249318-0.38657178170979023-0.464558805339038370.5809617077175062-0.336741982726380230.2602411615662277-1.8563352432101965-1.3919578343629837-0.11237878631800413-0.30467928829602897-0.98103950452059512.572484978940338-0.3626003172248602-0.87926245667040350.25300374347716570.20063879247754812-0.10127991251647472-0.0050275679677724840.96430553123354910.075156014412641530.6732305092737079-1.0514458734542131-0.9016874665394425-0.31187119148671627-0.20552951266290620.2448416929692030.5088643124327064-0.5082466918975115-0.70957556320354340.04748081974685192-1.6422179397195578-1.3838622551411390.26751419901847840.205969254719093440.030597987584769726-0.6070360392332077-0.5767891593277454-0.65906619094312190.57138041546568270.20367011986672878-0.8397776205092669-1.078983524814248-0.459926177281886341.115790968760848-0.42778161447495220.64177858270704750.6847608163952827-0.389048180077224970.6368310423567891-0.7821955494582653-0.4854639992117882-0.74001795798540120.173952764831483367.235523127019405-0.5538067962042987-0.64737281063571570.9830251801759005-0.10176278837025166-0.208539578365162010.8948683310300112-0.6543743102811277-0.22412657365202904-0.3923516534268856-0.5939915566705167-0.37744835577905180.8278911141678691-0.23097768612205982-0.227456647902727130.33789360523223877-1.168615757720545-0.07487786933779716-0.7937824516557157-0.46132506430149081.0492772068828344-0.7286951430141926-0.2673021648079157-1.2722412217408419-0.7235015870537609-0.07815611222758889-1.43258197233080860.276998500805348160.0597878444386879-0.408479904755950.6162315872497857-0.3109197523444891-0.636187307536602-0.18579390831291676-0.58274218696169560.80559773836284880.13605936197564006-0.5676530394703150.131353530334308740.36538006132468580.6274261942598969-0.8684012060984969-0.499286294914782050.40712099708616734-1.9046401605010033-0.6778559423983097-0.78692734381183980.35969132371246815-0.2012365427799523-2.254199830116704-0.807967399712652-1.1827402804046870.05424092337489128-1.0469915443100035-0.36203004606068134-0.118832249660044910.9112004060298204-0.66821412974968550.10031011886894703-0.49127863487228750.204160698223859070.29889060975983740.58297217451035980.247729066759347920.6920306589454412-0.09732901514507830.0286362348124384880.14305942412465811.041218421421945'),\n",
              " 'MU10',\n",
              " '防潑水保暖夾層外套',\n",
              " 'https://im.uniqlo.com/images/tw/gu/pc/goods/326106/item/36_326106.jpg')"
            ]
          },
          "metadata": {
            "tags": []
          },
          "execution_count": 13
        }
      ]
    },
    {
      "cell_type": "code",
      "metadata": {
        "colab": {
          "base_uri": "https://localhost:8080/",
          "height": 53
        },
        "id": "_GcGZ6CheQF0",
        "outputId": "faaa9f17-a8c1-4015-c0d3-cbec257c4494"
      },
      "source": [
        "# 因為回傳值為tuple\n",
        "# 所以可以如此定義參數取值\n",
        "main_recom, main_sn, main_name, main_url = recommdation.fussy_search(keyword, gender='woman')\n",
        "# 注意這邊性別改為女生所以推薦結果會不一樣\n",
        "main_name"
      ],
      "execution_count": 14,
      "outputs": [
        {
          "output_type": "stream",
          "text": [
            "/usr/local/lib/python3.6/dist-packages/ipykernel_launcher.py:40: DeprecationWarning: string or file could not be read to its end due to unmatched data; this will raise a ValueError in the future.\n"
          ],
          "name": "stderr"
        },
        {
          "output_type": "execute_result",
          "data": {
            "application/vnd.google.colaboratory.intrinsic+json": {
              "type": "string"
            },
            "text/plain": [
              "'雙口袋工作襯衫連身裙'"
            ]
          },
          "metadata": {
            "tags": []
          },
          "execution_count": 14
        }
      ]
    },
    {
      "cell_type": "markdown",
      "metadata": {
        "id": "C6x6nUJ-ocdM"
      },
      "source": [
        "### 同款搜尋"
      ]
    },
    {
      "cell_type": "code",
      "metadata": {
        "colab": {
          "base_uri": "https://localhost:8080/"
        },
        "id": "4kDLHM26ocHU",
        "outputId": "1f6412ac-dcb9-4770-c6ff-638cdaf30192"
      },
      "source": [
        "recommdation.same_search(main_recom)"
      ],
      "execution_count": 15,
      "outputs": [
        {
          "output_type": "execute_result",
          "data": {
            "text/plain": [
              "(Node('Product', description='女裝雙口袋工作襯衫連身裙(長袖) 雙口袋設計，充滿時尚感的襯衫連身裙。可搭配上衣或開襟外套，很百搭的設計。在換季時很方便的商品。 咖啡色', image_url='https://im.uniqlo.com/images/tw/gu/pc/goods/328287/item/39_328287.jpg', name='雙口袋工作襯衫連身裙', sn='FF17', vector='-0.7370765311643481-0.2216735910624265717.714856041595344.660980170592666-0.45854356768541040.7518688887357712-0.8187373052351177-5.8448508725268779.247508107684553-2.2224747203290462-2.465726841473952-0.0195867054862901572.1381499427370727-1.43807160481810571.46271036055986772.6171819996088743-0.23933079533162527-2.7847795598790982.07226206967607142.090256851428421-2.004897393664578-0.58688578963483452.5685903880512340.70247421722160653.2791940739843994-0.6865977077977732-0.8982895771041512-1.158790784975281-3.6193320583552120.3099144248990342-0.119845787528902290.76334361732006073.39235265401657671.54274689918383960.052332062972709542.6591584056150171.8577556253876537-5.666199726052582-0.081005488522350791.92755912995926340.8117517458740622-1.45562927448190751.800485098036006-1.34691071201814341.1867351471446455-1.5926674916408956-4.7437269482761621.88354358845390381.292679339647293-1.44841467263177042.841055650205817-1.61939284298568962.4753211601637304-8.234229785390198-2.0578468856401740.76374946627765892.7570441626012325-1.3989647538401186-2.06712614209391182.28895471757277850.4524683897034265-1.2792634109500796-2.89813317777588961.2149219741113484-1.5630123340524733-1.0164535447838716-1.82659200718626382.759689746191725-0.78412071865750480.085029266192577781.03056206170003865.979338915087283-0.07742962345946580.3742766135837883-5.767340705730021-0.6898660496080993-0.02373511390760541-1.27917492901906370.451218168484047061.1901606023311615-3.5995250837877393-0.6528209495591-2.009251309558749-0.462829689262434840.306307424325495961.19433361850678921.3819057452928973-1.82065912144025797.6090344814583665.027714240364732.59691739385016262.7337200110778213-1.4994932152330875-0.504024482332172.09850958129391072.8681037535425276-0.14018734078854322-0.12344814371317625-3.179536598152481-1.7454317361844005-5.668130117119291.9726216557901353-3.4669862786540761.86560655059292913.1394885188201442-1.9821227174252272-1.1440273929620162-1.67898264943505641.7521698279306293-2.0906406634021551.2561765238642693-0.8050538349198177-0.49998964706901461.9827658305875957-1.19092043675482272.0967552501242611.5294905040645972-2.5744157180888580.7526675544213504-1.8510931168566458-0.7012041688431054-3.51297815493308-2.879328030627221-0.953224559314549-2.0345200691372156-3.71611368772573773.452456831932068-7.2584509858861570.18588999204803258-0.5036954758688807-4.318388935178518-1.1640613782219589-0.77912750653922561.46094865334453061.2100998687092215-1.0152063232962973-1.27818288729758931.26486697979271415.346910016844049-0.9903018667828292-0.76852313612471330.16631690203212202-4.9115874106064441.78463869355618953.2228454034775496-1.3419822356663644-0.6189732651691884-2.411592723801732-0.093450905871577560.78833269746974119.3215754553675653.088992669247091-3.8063679572660476-2.323203093605116-0.63468399968951422.05701584462076430.5391873153857887-1.2217903588898482.0467297808500007-3.0851170821115375-0.08279992209281772-2.2497738344827667-3.9923597327433527-0.7712854065466672-0.1749488078057766-0.58306588931009170.752942364430055-1.915675332536921-1.1667937790625729-1.44457910527125931.6810138025321066-1.23192314815241840.068552565062418585.891698464751244-1.77739607868716121.6926879649981856-3.6090800885576755-1.08540106914006170.98465359397232530.3801332386210561-0.04614627058617771-7.2729478689434471.59763271082192660.36369555210694670.5107052214443684-4.424036278389394-3.4084921029862016-0.5981431291438639-0.152916048187762514.62884834036231-3.508700347971171-0.090915626380592582.58616681734565650.54905316513031721.6621144009986892-0.49935109110083430.20344069926068187-0.117932668479625144.378805988933891-2.5876976242288947-2.78320289263501760.25326526194112375-2.3391431290656330.456363138568121940.36277923703892156-2.6679777992540040.09943561973341275-1.3978914603358135-3.083804886089638-3.039586050028447-1.076980502344668-1.3053061242680997-0.8208484868519008-1.5156257862690836-0.07783372490666807-3.63040703162550931.54880550177767870.11865354795008898-0.5970856668427587-1.0877374175470322-1.21460225526243456.227740400703624-2.8468967578373852.292360400140751-2.32841156702488661.12100165989249942.7490452406927943-1.4808817841476412-4.633689656795468-7.2704275920987131.887530144071206529.72371820732951-2.548433755437145-1.31101762090111151.716302200627979-1.2961357474632678-0.342947655357420442.3623438326176256-0.018874528410378844-0.90259536961093541.08908497390802951.9110163020086475-1.08553419355303050.6619314935524017-1.4630108191631734-1.0551740317605436-3.0778075777343474-0.402854217129061-0.527315889718011-1.2802973501384258-1.0912187698704656-0.7457204619422555-1.0587363271333743-0.10767030564602464-1.37490818055812270.90292216138914230.2264407585025765-4.9640418477356432.8046875493600965-0.5748354844981804-2.51897537638433281.45643897808622570.13303770776838064-2.145319458504673-2.491118852980435-0.5370515473186970.0175640755333006382.3283223840699065-3.7754771914333105-1.69925655749102590.7214576501864940.9825444148154929-2.626564510166645-1.32898394390940673.6274767387658358-5.8336500055156650.023582752794027331.07059485960053281.52557800319482340.3660531380446628-8.872206354513764-0.7914884872734547-0.5222316335421056-0.7410952546633781.193387936335057-0.26657449576305225-2.67608283285517251.4385103235254064-0.15771656995639205-0.49628364783711730.361095599015243350.75698658413602970.6960021501290612-0.8990785919595511.580222722608596-0.20034921495243907-1.60844622086733581.5265735480662670.92627403512597080.9641276940237731'),\n",
              " 'FF17',\n",
              " '雙口袋工作襯衫連身裙',\n",
              " 'https://im.uniqlo.com/images/tw/gu/pc/goods/328287/item/39_328287.jpg')"
            ]
          },
          "metadata": {
            "tags": []
          },
          "execution_count": 15
        }
      ]
    },
    {
      "cell_type": "code",
      "metadata": {
        "colab": {
          "base_uri": "https://localhost:8080/",
          "height": 53
        },
        "id": "ZAneTgUate9H",
        "outputId": "9422ab7f-9478-405f-b210-fc266302b301"
      },
      "source": [
        "same_recom, same_sn, same_name, same_url = recommdation.fussy_search(keyword, gender='woman')\n",
        "\n",
        "same_name"
      ],
      "execution_count": 9,
      "outputs": [
        {
          "output_type": "stream",
          "text": [
            "/usr/local/lib/python3.6/dist-packages/ipykernel_launcher.py:40: DeprecationWarning: string or file could not be read to its end due to unmatched data; this will raise a ValueError in the future.\n"
          ],
          "name": "stderr"
        },
        {
          "output_type": "execute_result",
          "data": {
            "application/vnd.google.colaboratory.intrinsic+json": {
              "type": "string"
            },
            "text/plain": [
              "'雙口袋工作襯衫連身裙'"
            ]
          },
          "metadata": {
            "tags": []
          },
          "execution_count": 9
        }
      ]
    },
    {
      "cell_type": "markdown",
      "metadata": {
        "id": "DeGN548KnaRW"
      },
      "source": [
        "### 穿搭推薦"
      ]
    },
    {
      "cell_type": "code",
      "metadata": {
        "colab": {
          "base_uri": "https://localhost:8080/"
        },
        "id": "VWrqBu-5oHG5",
        "outputId": "70d4f78c-c562-431c-ae26-1a24bf1bb69b"
      },
      "source": [
        "# 一階穿搭\n",
        "fit_recom_first, fit_score_f, fit_sn_f, fit_name_f, fit_url_f = recommdation.fit_search(main_recom, top=1)\n",
        "\n",
        "print('一階穿搭:', fit_name_f, '分數:', fit_score_f)"
      ],
      "execution_count": 16,
      "outputs": [
        {
          "output_type": "stream",
          "text": [
            "一階穿搭: 羅紋針織坦克背心 分數: 0.845\n"
          ],
          "name": "stdout"
        }
      ]
    },
    {
      "cell_type": "code",
      "metadata": {
        "colab": {
          "base_uri": "https://localhost:8080/"
        },
        "id": "DS9KZDDAx-m0",
        "outputId": "51698999-ba66-4351-ef27-1c9bfc7417da"
      },
      "source": [
        "# 二階穿搭\n",
        "fit_recom_second, fit_score_s, fit_sn_s, fit_name_s, fit_url_s = recommdation.fit_search(fit_recom_first, top=1)\n",
        "\n",
        "print('二階穿搭:', fit_name_s, '分數:', fit_score_s)"
      ],
      "execution_count": 18,
      "outputs": [
        {
          "output_type": "stream",
          "text": [
            "二階穿搭: 經典款風衣 分數: 0.934\n"
          ],
          "name": "stdout"
        }
      ]
    },
    {
      "cell_type": "markdown",
      "metadata": {
        "id": "GRxaiDzZpoof"
      },
      "source": [
        "### 測試區"
      ]
    },
    {
      "cell_type": "code",
      "metadata": {
        "id": "luBih-Oi46Qb"
      },
      "source": [
        "graph = neo.Graph('bolt://54.234.73.102:33059', password='whistle-ratios-poles')\n",
        "\n",
        "graph"
      ],
      "execution_count": null,
      "outputs": []
    },
    {
      "cell_type": "code",
      "metadata": {
        "id": "gjerS1sSGI_b"
      },
      "source": [
        "# 同款\n",
        "same_relate = list(neo.RelationshipMatch(graph, nodes=[main_recom], r_type='SAME'))\n",
        "same_node = same_relate[0].end_node\n",
        "\n",
        "same_node['sn']"
      ],
      "execution_count": null,
      "outputs": []
    },
    {
      "cell_type": "code",
      "metadata": {
        "id": "x-LSxOOCFGbh"
      },
      "source": [
        "# 一階穿搭\n",
        "fit_relate = neo.RelationshipMatch(graph, nodes=[main_recom], r_type='FIT')\n",
        "fit_rank = list(fit_relate.order_by('_.score DESC'))\n",
        "\n",
        "for r in fit_rank:\n",
        "    print(r)"
      ],
      "execution_count": null,
      "outputs": []
    },
    {
      "cell_type": "code",
      "metadata": {
        "id": "Gu68ExWbuiaN"
      },
      "source": [
        "top = 1\n",
        "fit_score = fit_rank[top-1]['score']\n",
        "fit_node = fit_rank[top-1].end_node\n",
        "\n",
        "print('一階穿搭:', fit_node['name'], '分數:', fit_score)"
      ],
      "execution_count": null,
      "outputs": []
    }
  ]
}