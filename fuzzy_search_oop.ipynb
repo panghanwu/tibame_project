{
  "nbformat": 4,
  "nbformat_minor": 0,
  "metadata": {
    "colab": {
      "name": "fuzzy_search_oop.ipynb",
      "provenance": [],
      "toc_visible": true,
      "mount_file_id": "1WYr4AVzE8TOJQzdqdBPAk6h_WAoyGoxO",
      "authorship_tag": "ABX9TyPIOVyEdeRC0BB1JJBm957F",
      "include_colab_link": true
    },
    "kernelspec": {
      "name": "python3",
      "display_name": "Python 3"
    }
  },
  "cells": [
    {
      "cell_type": "markdown",
      "metadata": {
        "id": "view-in-github",
        "colab_type": "text"
      },
      "source": [
        "<a href=\"https://colab.research.google.com/github/panghanwu/tibame_project/blob/main/fuzzy_search_oop.ipynb\" target=\"_parent\"><img src=\"https://colab.research.google.com/assets/colab-badge.svg\" alt=\"Open In Colab\"/></a>"
      ]
    },
    {
      "cell_type": "markdown",
      "metadata": {
        "id": "3qgKP2qlZSc7"
      },
      "source": [
        "# 模糊搜尋功能\n",
        "---\n",
        "\n",
        "### 會使用到的套件\n",
        "- gensim\n",
        "- py2neo\n",
        "- numpy"
      ]
    },
    {
      "cell_type": "code",
      "metadata": {
        "id": "WW6zOjwkIaZc",
        "colab": {
          "base_uri": "https://localhost:8080/"
        },
        "outputId": "186be20a-ad8f-431a-9635-5b89f44c96de"
      },
      "source": [
        "# 下載fastText繁體中文模型並解壓縮\n",
        "!wget https://dl.fbaipublicfiles.com/fasttext/vectors-crawl/cc.zh.300.bin.gz\n",
        "!gunzip cc.zh.300.bin.gz\n",
        "\n",
        "# 載入gensim中的FastText\n",
        "from gensim.models.fasttext import FastText\n",
        "\n",
        "# 將fastText模型定義為ft_model\n",
        "# 因為模型很大 會需要一些時間載入\n",
        "ft_model = FastText.load_fasttext_format('cc.zh.300.bin')"
      ],
      "execution_count": 1,
      "outputs": [
        {
          "output_type": "stream",
          "text": [
            "--2020-11-27 15:46:13--  https://dl.fbaipublicfiles.com/fasttext/vectors-crawl/cc.zh.300.bin.gz\n",
            "Resolving dl.fbaipublicfiles.com (dl.fbaipublicfiles.com)... 172.67.9.4, 104.22.75.142, 104.22.74.142, ...\n",
            "Connecting to dl.fbaipublicfiles.com (dl.fbaipublicfiles.com)|172.67.9.4|:443... connected.\n",
            "HTTP request sent, awaiting response... 200 OK\n",
            "Length: 4478681770 (4.2G) [application/octet-stream]\n",
            "Saving to: ‘cc.zh.300.bin.gz’\n",
            "\n",
            "cc.zh.300.bin.gz    100%[===================>]   4.17G  12.6MB/s    in 5m 41s  \n",
            "\n",
            "2020-11-27 15:51:54 (12.5 MB/s) - ‘cc.zh.300.bin.gz’ saved [4478681770/4478681770]\n",
            "\n"
          ],
          "name": "stdout"
        }
      ]
    },
    {
      "cell_type": "code",
      "metadata": {
        "colab": {
          "base_uri": "https://localhost:8080/",
          "height": 1000
        },
        "id": "D11X3ygE3czG",
        "outputId": "31f68a39-9e14-454f-b1ba-c97706a12bdf"
      },
      "source": [
        "# py2neo是python控制neo4j的套件\n",
        "# Colab並未內建需要另外安裝\n",
        "!pip install py2neo"
      ],
      "execution_count": 2,
      "outputs": [
        {
          "output_type": "stream",
          "text": [
            "Collecting py2neo\n",
            "\u001b[?25l  Downloading https://files.pythonhosted.org/packages/4f/86/4cb8118794ab5965335bc8f3315c414a05cbbe5d9f978f8fcbed1bc819af/py2neo-2020.1.1-py2.py3-none-any.whl (185kB)\n",
            "\r\u001b[K     |█▊                              | 10kB 15.7MB/s eta 0:00:01\r\u001b[K     |███▌                            | 20kB 11.1MB/s eta 0:00:01\r\u001b[K     |█████▎                          | 30kB 7.7MB/s eta 0:00:01\r\u001b[K     |███████                         | 40kB 6.3MB/s eta 0:00:01\r\u001b[K     |████████▉                       | 51kB 4.4MB/s eta 0:00:01\r\u001b[K     |██████████▋                     | 61kB 4.9MB/s eta 0:00:01\r\u001b[K     |████████████▍                   | 71kB 4.9MB/s eta 0:00:01\r\u001b[K     |██████████████▏                 | 81kB 5.2MB/s eta 0:00:01\r\u001b[K     |███████████████▉                | 92kB 5.2MB/s eta 0:00:01\r\u001b[K     |█████████████████▋              | 102kB 4.3MB/s eta 0:00:01\r\u001b[K     |███████████████████▍            | 112kB 4.3MB/s eta 0:00:01\r\u001b[K     |█████████████████████▏          | 122kB 4.3MB/s eta 0:00:01\r\u001b[K     |███████████████████████         | 133kB 4.3MB/s eta 0:00:01\r\u001b[K     |████████████████████████▊       | 143kB 4.3MB/s eta 0:00:01\r\u001b[K     |██████████████████████████▌     | 153kB 4.3MB/s eta 0:00:01\r\u001b[K     |████████████████████████████▎   | 163kB 4.3MB/s eta 0:00:01\r\u001b[K     |██████████████████████████████  | 174kB 4.3MB/s eta 0:00:01\r\u001b[K     |███████████████████████████████▊| 184kB 4.3MB/s eta 0:00:01\r\u001b[K     |████████████████████████████████| 194kB 4.3MB/s \n",
            "\u001b[?25hRequirement already satisfied: pytz in /usr/local/lib/python3.6/dist-packages (from py2neo) (2018.9)\n",
            "Collecting cryptography\n",
            "\u001b[?25l  Downloading https://files.pythonhosted.org/packages/4c/a2/6565c5271a79e3c96d7a079053b4d8408a740d4bf365f0f5f244a807bd09/cryptography-3.2.1-cp35-abi3-manylinux2010_x86_64.whl (2.6MB)\n",
            "\u001b[K     |████████████████████████████████| 2.6MB 7.8MB/s \n",
            "\u001b[?25hRequirement already satisfied: six>=1.15.0 in /usr/local/lib/python3.6/dist-packages (from py2neo) (1.15.0)\n",
            "Collecting english\n",
            "  Downloading https://files.pythonhosted.org/packages/05/1d/f1dd2cbd075c049a753815a0d1f29f29be3c09a62fb01a9ba74356bfee08/english-2020.7.0-py2.py3-none-any.whl\n",
            "Requirement already satisfied: packaging in /usr/local/lib/python3.6/dist-packages (from py2neo) (20.4)\n",
            "Collecting prompt-toolkit~=2.0.7\n",
            "\u001b[?25l  Downloading https://files.pythonhosted.org/packages/87/61/2dfea88583d5454e3a64f9308a686071d58d59a55db638268a6413e1eb6d/prompt_toolkit-2.0.10-py3-none-any.whl (340kB)\n",
            "\u001b[K     |████████████████████████████████| 348kB 22.2MB/s \n",
            "\u001b[?25hRequirement already satisfied: pygments>=2.0.0 in /usr/local/lib/python3.6/dist-packages (from py2neo) (2.6.1)\n",
            "Collecting pansi>=2020.7.3\n",
            "  Downloading https://files.pythonhosted.org/packages/0b/15/7972e08b7ec14a8b10d5ff206c644d4478906c909c134123ed7e6bd16724/pansi-2020.7.3-py2.py3-none-any.whl\n",
            "Collecting docker\n",
            "\u001b[?25l  Downloading https://files.pythonhosted.org/packages/ef/b7/eb7b7138bb5e6d28cf84fa586fe594619ca097b6207caa5f2ebe0c66a4ed/docker-4.4.0-py2.py3-none-any.whl (146kB)\n",
            "\u001b[K     |████████████████████████████████| 153kB 26.7MB/s \n",
            "\u001b[?25hCollecting monotonic\n",
            "  Downloading https://files.pythonhosted.org/packages/ac/aa/063eca6a416f397bd99552c534c6d11d57f58f2e94c14780f3bbf818c4cf/monotonic-1.5-py2.py3-none-any.whl\n",
            "Collecting neotime~=1.7.4\n",
            "  Downloading https://files.pythonhosted.org/packages/0b/7e/ca368a8d8e288be1352d4e2df35da1e01f8aaffbf526695df71630bcb8a6/neotime-1.7.4.tar.gz\n",
            "Requirement already satisfied: certifi in /usr/local/lib/python3.6/dist-packages (from py2neo) (2020.11.8)\n",
            "Requirement already satisfied: urllib3 in /usr/local/lib/python3.6/dist-packages (from py2neo) (1.24.3)\n",
            "Requirement already satisfied: cffi!=1.11.3,>=1.8 in /usr/local/lib/python3.6/dist-packages (from cryptography->py2neo) (1.14.3)\n",
            "Requirement already satisfied: pyparsing>=2.0.2 in /usr/local/lib/python3.6/dist-packages (from packaging->py2neo) (2.4.7)\n",
            "Requirement already satisfied: wcwidth in /usr/local/lib/python3.6/dist-packages (from prompt-toolkit~=2.0.7->py2neo) (0.2.5)\n",
            "Collecting websocket-client>=0.32.0\n",
            "\u001b[?25l  Downloading https://files.pythonhosted.org/packages/4c/5f/f61b420143ed1c8dc69f9eaec5ff1ac36109d52c80de49d66e0c36c3dfdf/websocket_client-0.57.0-py2.py3-none-any.whl (200kB)\n",
            "\u001b[K     |████████████████████████████████| 204kB 18.4MB/s \n",
            "\u001b[?25hRequirement already satisfied: requests!=2.18.0,>=2.14.2 in /usr/local/lib/python3.6/dist-packages (from docker->py2neo) (2.23.0)\n",
            "Requirement already satisfied: pycparser in /usr/local/lib/python3.6/dist-packages (from cffi!=1.11.3,>=1.8->cryptography->py2neo) (2.20)\n",
            "Requirement already satisfied: chardet<4,>=3.0.2 in /usr/local/lib/python3.6/dist-packages (from requests!=2.18.0,>=2.14.2->docker->py2neo) (3.0.4)\n",
            "Requirement already satisfied: idna<3,>=2.5 in /usr/local/lib/python3.6/dist-packages (from requests!=2.18.0,>=2.14.2->docker->py2neo) (2.10)\n",
            "Building wheels for collected packages: neotime\n",
            "  Building wheel for neotime (setup.py) ... \u001b[?25l\u001b[?25hdone\n",
            "  Created wheel for neotime: filename=neotime-1.7.4-cp36-none-any.whl size=20543 sha256=48bb53f7280cf3359c853aa1eade0ea3710af82db8c05bc823b96c267a586941\n",
            "  Stored in directory: /root/.cache/pip/wheels/d4/b4/c4/ab867cd0ac9e667f8cd269f9364fd1cb8ee75fe50f5ce97c79\n",
            "Successfully built neotime\n",
            "\u001b[31mERROR: jupyter-console 5.2.0 has requirement prompt-toolkit<2.0.0,>=1.0.0, but you'll have prompt-toolkit 2.0.10 which is incompatible.\u001b[0m\n",
            "\u001b[31mERROR: ipython 5.5.0 has requirement prompt-toolkit<2.0.0,>=1.0.4, but you'll have prompt-toolkit 2.0.10 which is incompatible.\u001b[0m\n",
            "Installing collected packages: cryptography, english, prompt-toolkit, pansi, websocket-client, docker, monotonic, neotime, py2neo\n",
            "  Found existing installation: prompt-toolkit 1.0.18\n",
            "    Uninstalling prompt-toolkit-1.0.18:\n",
            "      Successfully uninstalled prompt-toolkit-1.0.18\n",
            "Successfully installed cryptography-3.2.1 docker-4.4.0 english-2020.7.0 monotonic-1.5 neotime-1.7.4 pansi-2020.7.3 prompt-toolkit-2.0.10 py2neo-2020.1.1 websocket-client-0.57.0\n"
          ],
          "name": "stdout"
        },
        {
          "output_type": "display_data",
          "data": {
            "application/vnd.colab-display-data+json": {
              "pip_warning": {
                "packages": [
                  "prompt_toolkit"
                ]
              }
            }
          },
          "metadata": {
            "tags": []
          }
        }
      ]
    },
    {
      "cell_type": "code",
      "metadata": {
        "id": "k2Ha2FLC3P2S"
      },
      "source": [
        "import numpy as np\n",
        "import py2neo as neo\n",
        "\n",
        "# 模糊搜尋\n",
        "class FuzzySearch():\n",
        "    def __init__(self, description_list, node_list, gender=None):\n",
        "        # 需要的起始參數包含：\n",
        "        # 1.辨識描述list \n",
        "        # 2.Neo4j所有商品節點list\n",
        "        # 3.性別的string\n",
        "        \n",
        "        # 性別可以是male, female, None\n",
        "        assert gender in ['male', 'female', None]\n",
        "        self.sex = gender\n",
        "        self.des = description_list\n",
        "        \n",
        "        # 把辨識描述用ft_model轉成300為的詞向量\n",
        "        self.vec = np.zeros(300)\n",
        "        for d in self.des:\n",
        "            # 所有詞向量加總\n",
        "            self.vec += ft_model.wv[d]\n",
        "\n",
        "        # 依據性別更改商品節點清單\n",
        "        if self.sex == 'male':\n",
        "            self.product = [x for x in node_list if x['sn'][0]=='M']\n",
        "        elif self.sex == 'female':\n",
        "            self.product = [x for x in node_list if x['sn'][0]=='F']\n",
        "        else:\n",
        "            self.product = node_list\n",
        "\n",
        "        # 創立一個空矩陣作為容器\n",
        "        self.pro_vec = np.empty((len(self.product),300))\n",
        "        # 從商品節點清單中載入每項商品的詞向量\n",
        "        for i, n in enumerate(self.product):\n",
        "            str_vec = n['vector']\n",
        "            # 存入容器\n",
        "            self.pro_vec[i] = np.fromstring(str_vec, sep=' ')\n",
        "    \n",
        "    # 找出和辨識描述語意最相近的商品\n",
        "    def match(self):\n",
        "        # 向量夾角的運算\n",
        "        # 也就是計算出cos\n",
        "        dot  = np.dot(self.vec, self.pro_vec.T)\n",
        "        norm = np.linalg.norm(self.vec) * np.linalg.norm(self.pro_vec, axis=1)\n",
        "        cos  = dot / norm\n",
        "        # 找出夾角最小（cos最大）商品的索引\n",
        "        recom = np.argmax(cos)\n",
        "\n",
        "        # 傳回商品的流水號、名稱、圖片網址\n",
        "        # 為tuple形式\n",
        "        return (self.product[recom]['sn'], \n",
        "                self.product[recom]['name'], \n",
        "                self.product[recom]['image_url'])\n",
        "    \n",
        "    def __len__(self):\n",
        "        return len(self.product)\n",
        "\n"
      ],
      "execution_count": 3,
      "outputs": []
    },
    {
      "cell_type": "markdown",
      "metadata": {
        "id": "ZNlRALtM4Hsg"
      },
      "source": [
        "### 範例"
      ]
    },
    {
      "cell_type": "code",
      "metadata": {
        "colab": {
          "base_uri": "https://localhost:8080/"
        },
        "id": "RcFvpT6l4KFU",
        "outputId": "ddcaf47a-d993-4572-a321-1e87af27f5fb"
      },
      "source": [
        "# 連到Neo4j伺服器（再兩天後過期）\n",
        "print('Connecting to the sever...')\n",
        "\n",
        "# 伺服器位置、密碼\n",
        "sever_link = 'bolt://100.25.221.22:42993'\n",
        "pws = 'farm-distributions-battles'\n",
        "\n",
        "# 載入圖資料庫 並且命名為fashion_map\n",
        "fashion_map = neo.Graph(sever_link, password=pws)\n",
        "# 抓出所有商品節點list 並且命名為node_list\n",
        "node_list = list(neo.NodeMatch(fashion_map, labels=frozenset(['Product'])))\n",
        "\n",
        "print('Done.')"
      ],
      "execution_count": 4,
      "outputs": [
        {
          "output_type": "stream",
          "text": [
            "Connecting to the sever...\n",
            "Done.\n"
          ],
          "name": "stdout"
        }
      ]
    },
    {
      "cell_type": "code",
      "metadata": {
        "colab": {
          "base_uri": "https://localhost:8080/"
        },
        "id": "luBih-Oi46Qb",
        "outputId": "919227b4-2bc5-4cce-8225-a3622aff00a6"
      },
      "source": [
        "# 自訂偽辨識描述用來測試\n",
        "text = ['拼接','很熱','素色','短袖']\n",
        "\n",
        "# FuzzySearch是類別 加上.match()之後才會進行搜索功能\n",
        "# 輸入參數依序為辨識描述、商品節點清單、性別\n",
        "FuzzySearch(text, node_list, gender='male').match()"
      ],
      "execution_count": 10,
      "outputs": [
        {
          "output_type": "execute_result",
          "data": {
            "text/plain": [
              "('MU15',\n",
              " '刷毛格紋寬版襯衫',\n",
              " 'https://im.uniqlo.com/images/tw/gu/pc/goods/329789/item/16_329789.jpg')"
            ]
          },
          "metadata": {
            "tags": []
          },
          "execution_count": 10
        }
      ]
    },
    {
      "cell_type": "code",
      "metadata": {
        "colab": {
          "base_uri": "https://localhost:8080/",
          "height": 35
        },
        "id": "_GcGZ6CheQF0",
        "outputId": "ef9b9b79-436e-4f51-b407-c72b4a9d88ce"
      },
      "source": [
        "# 因為回傳值為tuple\n",
        "# 所以可以如此定義參數取值\n",
        "sn, name, url = FuzzySearch(text, node_list, gender='female').match()\n",
        "# 注意這邊性別改為女生所以推薦結果會不一樣\n",
        "sn"
      ],
      "execution_count": 12,
      "outputs": [
        {
          "output_type": "execute_result",
          "data": {
            "application/vnd.google.colaboratory.intrinsic+json": {
              "type": "string"
            },
            "text/plain": [
              "'FF19'"
            ]
          },
          "metadata": {
            "tags": []
          },
          "execution_count": 12
        }
      ]
    }
  ]
}