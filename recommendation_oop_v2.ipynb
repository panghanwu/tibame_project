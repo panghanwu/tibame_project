{
  "nbformat": 4,
  "nbformat_minor": 0,
  "metadata": {
    "colab": {
      "name": "recommendation_oop_v2.ipynb",
      "provenance": [],
      "collapsed_sections": [],
      "toc_visible": true,
      "mount_file_id": "1WYr4AVzE8TOJQzdqdBPAk6h_WAoyGoxO",
      "authorship_tag": "ABX9TyPtAxqq7nWvE2JRQGPGAo4w",
      "include_colab_link": true
    },
    "kernelspec": {
      "name": "python3",
      "display_name": "Python 3"
    }
  },
  "cells": [
    {
      "cell_type": "markdown",
      "metadata": {
        "id": "view-in-github",
        "colab_type": "text"
      },
      "source": [
        "<a href=\"https://colab.research.google.com/github/panghanwu/tibame_project/blob/main/recommendation_oop_v2.ipynb\" target=\"_parent\"><img src=\"https://colab.research.google.com/assets/colab-badge.svg\" alt=\"Open In Colab\"/></a>"
      ]
    },
    {
      "cell_type": "markdown",
      "metadata": {
        "id": "3qgKP2qlZSc7"
      },
      "source": [
        "# 模糊搜尋功能 v2\n",
        "---\n",
        "\n",
        "### 會使用到的套件\n",
        "- py2neo\n",
        "- pandas\n",
        "- numpy"
      ]
    },
    {
      "cell_type": "code",
      "metadata": {
        "colab": {
          "base_uri": "https://localhost:8080/",
          "height": 1000
        },
        "id": "D11X3ygE3czG",
        "outputId": "0ea7b015-5c6f-49cc-a6c0-d3bc369305af"
      },
      "source": [
        "# py2neo是python控制neo4j的套件\n",
        "# Colab並未內建需要另外安裝\n",
        "!pip install py2neo"
      ],
      "execution_count": null,
      "outputs": [
        {
          "output_type": "stream",
          "text": [
            "Collecting py2neo\n",
            "\u001b[?25l  Downloading https://files.pythonhosted.org/packages/4f/86/4cb8118794ab5965335bc8f3315c414a05cbbe5d9f978f8fcbed1bc819af/py2neo-2020.1.1-py2.py3-none-any.whl (185kB)\n",
            "\r\u001b[K     |█▊                              | 10kB 14.7MB/s eta 0:00:01\r\u001b[K     |███▌                            | 20kB 11.5MB/s eta 0:00:01\r\u001b[K     |█████▎                          | 30kB 9.5MB/s eta 0:00:01\r\u001b[K     |███████                         | 40kB 7.9MB/s eta 0:00:01\r\u001b[K     |████████▉                       | 51kB 4.2MB/s eta 0:00:01\r\u001b[K     |██████████▋                     | 61kB 4.8MB/s eta 0:00:01\r\u001b[K     |████████████▍                   | 71kB 4.8MB/s eta 0:00:01\r\u001b[K     |██████████████▏                 | 81kB 5.1MB/s eta 0:00:01\r\u001b[K     |███████████████▉                | 92kB 5.3MB/s eta 0:00:01\r\u001b[K     |█████████████████▋              | 102kB 5.7MB/s eta 0:00:01\r\u001b[K     |███████████████████▍            | 112kB 5.7MB/s eta 0:00:01\r\u001b[K     |█████████████████████▏          | 122kB 5.7MB/s eta 0:00:01\r\u001b[K     |███████████████████████         | 133kB 5.7MB/s eta 0:00:01\r\u001b[K     |████████████████████████▊       | 143kB 5.7MB/s eta 0:00:01\r\u001b[K     |██████████████████████████▌     | 153kB 5.7MB/s eta 0:00:01\r\u001b[K     |████████████████████████████▎   | 163kB 5.7MB/s eta 0:00:01\r\u001b[K     |██████████████████████████████  | 174kB 5.7MB/s eta 0:00:01\r\u001b[K     |███████████████████████████████▊| 184kB 5.7MB/s eta 0:00:01\r\u001b[K     |████████████████████████████████| 194kB 5.7MB/s \n",
            "\u001b[?25hCollecting english\n",
            "  Downloading https://files.pythonhosted.org/packages/05/1d/f1dd2cbd075c049a753815a0d1f29f29be3c09a62fb01a9ba74356bfee08/english-2020.7.0-py2.py3-none-any.whl\n",
            "Requirement already satisfied: six>=1.15.0 in /usr/local/lib/python3.6/dist-packages (from py2neo) (1.15.0)\n",
            "Collecting prompt-toolkit~=2.0.7\n",
            "\u001b[?25l  Downloading https://files.pythonhosted.org/packages/87/61/2dfea88583d5454e3a64f9308a686071d58d59a55db638268a6413e1eb6d/prompt_toolkit-2.0.10-py3-none-any.whl (340kB)\n",
            "\u001b[K     |████████████████████████████████| 348kB 28.0MB/s \n",
            "\u001b[?25hRequirement already satisfied: pygments>=2.0.0 in /usr/local/lib/python3.6/dist-packages (from py2neo) (2.6.1)\n",
            "Requirement already satisfied: urllib3 in /usr/local/lib/python3.6/dist-packages (from py2neo) (1.24.3)\n",
            "Collecting monotonic\n",
            "  Downloading https://files.pythonhosted.org/packages/ac/aa/063eca6a416f397bd99552c534c6d11d57f58f2e94c14780f3bbf818c4cf/monotonic-1.5-py2.py3-none-any.whl\n",
            "Collecting cryptography\n",
            "\u001b[?25l  Downloading https://files.pythonhosted.org/packages/4c/a2/6565c5271a79e3c96d7a079053b4d8408a740d4bf365f0f5f244a807bd09/cryptography-3.2.1-cp35-abi3-manylinux2010_x86_64.whl (2.6MB)\n",
            "\u001b[K     |████████████████████████████████| 2.6MB 43.2MB/s \n",
            "\u001b[?25hRequirement already satisfied: pytz in /usr/local/lib/python3.6/dist-packages (from py2neo) (2018.9)\n",
            "Collecting neotime~=1.7.4\n",
            "  Downloading https://files.pythonhosted.org/packages/0b/7e/ca368a8d8e288be1352d4e2df35da1e01f8aaffbf526695df71630bcb8a6/neotime-1.7.4.tar.gz\n",
            "Requirement already satisfied: certifi in /usr/local/lib/python3.6/dist-packages (from py2neo) (2020.11.8)\n",
            "Requirement already satisfied: packaging in /usr/local/lib/python3.6/dist-packages (from py2neo) (20.4)\n",
            "Collecting pansi>=2020.7.3\n",
            "  Downloading https://files.pythonhosted.org/packages/0b/15/7972e08b7ec14a8b10d5ff206c644d4478906c909c134123ed7e6bd16724/pansi-2020.7.3-py2.py3-none-any.whl\n",
            "Collecting docker\n",
            "\u001b[?25l  Downloading https://files.pythonhosted.org/packages/ef/b7/eb7b7138bb5e6d28cf84fa586fe594619ca097b6207caa5f2ebe0c66a4ed/docker-4.4.0-py2.py3-none-any.whl (146kB)\n",
            "\u001b[K     |████████████████████████████████| 153kB 35.4MB/s \n",
            "\u001b[?25hRequirement already satisfied: wcwidth in /usr/local/lib/python3.6/dist-packages (from prompt-toolkit~=2.0.7->py2neo) (0.2.5)\n",
            "Requirement already satisfied: cffi!=1.11.3,>=1.8 in /usr/local/lib/python3.6/dist-packages (from cryptography->py2neo) (1.14.3)\n",
            "Requirement already satisfied: pyparsing>=2.0.2 in /usr/local/lib/python3.6/dist-packages (from packaging->py2neo) (2.4.7)\n",
            "Requirement already satisfied: requests!=2.18.0,>=2.14.2 in /usr/local/lib/python3.6/dist-packages (from docker->py2neo) (2.23.0)\n",
            "Collecting websocket-client>=0.32.0\n",
            "\u001b[?25l  Downloading https://files.pythonhosted.org/packages/4c/5f/f61b420143ed1c8dc69f9eaec5ff1ac36109d52c80de49d66e0c36c3dfdf/websocket_client-0.57.0-py2.py3-none-any.whl (200kB)\n",
            "\u001b[K     |████████████████████████████████| 204kB 33.9MB/s \n",
            "\u001b[?25hRequirement already satisfied: pycparser in /usr/local/lib/python3.6/dist-packages (from cffi!=1.11.3,>=1.8->cryptography->py2neo) (2.20)\n",
            "Requirement already satisfied: chardet<4,>=3.0.2 in /usr/local/lib/python3.6/dist-packages (from requests!=2.18.0,>=2.14.2->docker->py2neo) (3.0.4)\n",
            "Requirement already satisfied: idna<3,>=2.5 in /usr/local/lib/python3.6/dist-packages (from requests!=2.18.0,>=2.14.2->docker->py2neo) (2.10)\n",
            "Building wheels for collected packages: neotime\n",
            "  Building wheel for neotime (setup.py) ... \u001b[?25l\u001b[?25hdone\n",
            "  Created wheel for neotime: filename=neotime-1.7.4-cp36-none-any.whl size=20543 sha256=45a9a180061b5f77ff8eb90369e5c41b4441b75c4dd02cc4a63863a3b80c3332\n",
            "  Stored in directory: /root/.cache/pip/wheels/d4/b4/c4/ab867cd0ac9e667f8cd269f9364fd1cb8ee75fe50f5ce97c79\n",
            "Successfully built neotime\n",
            "\u001b[31mERROR: jupyter-console 5.2.0 has requirement prompt-toolkit<2.0.0,>=1.0.0, but you'll have prompt-toolkit 2.0.10 which is incompatible.\u001b[0m\n",
            "\u001b[31mERROR: ipython 5.5.0 has requirement prompt-toolkit<2.0.0,>=1.0.4, but you'll have prompt-toolkit 2.0.10 which is incompatible.\u001b[0m\n",
            "Installing collected packages: english, prompt-toolkit, monotonic, cryptography, neotime, pansi, websocket-client, docker, py2neo\n",
            "  Found existing installation: prompt-toolkit 1.0.18\n",
            "    Uninstalling prompt-toolkit-1.0.18:\n",
            "      Successfully uninstalled prompt-toolkit-1.0.18\n",
            "Successfully installed cryptography-3.2.1 docker-4.4.0 english-2020.7.0 monotonic-1.5 neotime-1.7.4 pansi-2020.7.3 prompt-toolkit-2.0.10 py2neo-2020.1.1 websocket-client-0.57.0\n"
          ],
          "name": "stdout"
        },
        {
          "output_type": "display_data",
          "data": {
            "application/vnd.colab-display-data+json": {
              "pip_warning": {
                "packages": [
                  "prompt_toolkit"
                ]
              }
            }
          },
          "metadata": {
            "tags": []
          }
        }
      ]
    },
    {
      "cell_type": "code",
      "metadata": {
        "id": "kiiOT5ElBjXG"
      },
      "source": [
        "import numpy as np\n",
        "import pandas as pd\n",
        "import py2neo as neo\n",
        "\n",
        "\n",
        "class Neo4jRecomBot():\n",
        "    # 1. __init__: 連上Neo4j伺服器\n",
        "    # 2. fussy_search: 模糊搜尋\n",
        "    # 3. same_search: 同款搜尋\n",
        "    # 4. fit_search: 穿搭搜尋\n",
        "    def __init__(self, sever_link, password, word2vec):\n",
        "        # 載入圖資料庫\n",
        "        self.graph = neo.Graph(sever_link, password=password)\n",
        "        # 提取出產品清單\n",
        "        self.product_list = list(neo.NodeMatch(self.graph, labels=frozenset(['Product'])))\n",
        "        # 載入語料詞向量檔\n",
        "        self.word2vec = word2vec\n",
        "    \n",
        "\n",
        "    def fussy_search(self, keyword, gender=None):\n",
        "        assert gender in ['man', 'woman', None]\n",
        "        \n",
        "        # 依據性別更改商品節點清單\n",
        "        if gender == 'man':\n",
        "            search_list = [x for x in self.product_list if x['sn'][0]=='M']\n",
        "        elif gender == 'woman':\n",
        "            search_list = [x for x in self.product_list if x['sn'][0]=='F']\n",
        "        else:\n",
        "            search_list = self.product_list\n",
        "\n",
        "        # 把辨識描述用word2vec轉成300為的詞向量\n",
        "        key_vec = np.zeros(300)\n",
        "        for d in keyword:\n",
        "            # 所有詞向量加總\n",
        "            key_vec += self.word2vec[d]\n",
        "\n",
        "        # 把產品詞向量存成矩陣\n",
        "        pro_vec = np.empty((len(search_list),300))\n",
        "        for i, n in enumerate(search_list):\n",
        "            str_vec = n['vector']\n",
        "            pro_vec[i] = np.fromstring(str_vec, sep=' ')\n",
        "        \n",
        "        # 找出夾角最小（最大cos）商品的索引\n",
        "        dot  = np.dot(key_vec, pro_vec.T)\n",
        "        norm = np.linalg.norm(key_vec) * np.linalg.norm(pro_vec, axis=1)\n",
        "        cos  = dot / norm\n",
        "        idx  = np.argmax(cos)\n",
        "        sco  = np.max(cos)\n",
        "\n",
        "        return (search_list[idx],\n",
        "                search_list[idx]['sn'], \n",
        "                search_list[idx]['name'], \n",
        "                search_list[idx]['image_url'],\n",
        "                sco)\n",
        "        \n",
        "    # 輸入商品節點回傳同款商品\n",
        "    def same_search(self, product):\n",
        "        same_relate = list(neo.RelationshipMatch(self.graph, \n",
        "                                                 nodes=[product], \n",
        "                                                 r_type='SAME'))\n",
        "        same_node = same_relate[0].end_node\n",
        "        if same_node != []:\n",
        "            return (same_node,\n",
        "                    same_node['sn'],\n",
        "                    same_node['name'],\n",
        "                    same_node['image_url'])\n",
        "        else:\n",
        "            return '無同款'   \n",
        "\n",
        "    def fit_search(self, product, top=1):\n",
        "        fit_relate = neo.RelationshipMatch(self.graph, nodes=[product], r_type='FIT')\n",
        "        fit_rank = list(fit_relate.order_by('_.score DESC'))\n",
        "        fit_score = fit_rank[top-1]['score']\n",
        "        fit_node = fit_rank[top-1].end_node\n",
        "        return (fit_node, \n",
        "                fit_score,\n",
        "                fit_node['sn'],\n",
        "                fit_node['name'],\n",
        "                fit_node['image_url'])\n"
      ],
      "execution_count": null,
      "outputs": []
    },
    {
      "cell_type": "markdown",
      "metadata": {
        "id": "ZNlRALtM4Hsg"
      },
      "source": [
        "### 範例"
      ]
    },
    {
      "cell_type": "code",
      "metadata": {
        "colab": {
          "base_uri": "https://localhost:8080/"
        },
        "id": "4faNLaWc21iR",
        "outputId": "8c0b7eab-5edd-4759-ffe1-48a76069308f"
      },
      "source": [
        "import numpy as np\n",
        "import pandas as pd\n",
        "\n",
        "# 載入詞向量字典\n",
        "cloth_model_df = pd.read_csv('cloth_word_vec.csv', )\n",
        "cloth_vec = {}\n",
        "\n",
        "for i in range(len(cloth_model_df)):\n",
        "    vector = cloth_model_df['vec'][i]\n",
        "    vector = vector.replace('\\n','')\n",
        "    vector = vector.replace('[','')\n",
        "    vector = vector.replace(']','')\n",
        "    vector = np.fromstring(vector, sep=' ')\n",
        "    cloth_vec[cloth_model_df['cht'][i]] = vector\n",
        "\n",
        "len(cloth_vec)"
      ],
      "execution_count": null,
      "outputs": [
        {
          "output_type": "execute_result",
          "data": {
            "text/plain": [
              "76"
            ]
          },
          "metadata": {
            "tags": []
          },
          "execution_count": 31
        }
      ]
    },
    {
      "cell_type": "code",
      "metadata": {
        "id": "9WBgj7vcEWGh",
        "colab": {
          "base_uri": "https://localhost:8080/"
        },
        "outputId": "e05ccc34-29c7-40d8-b528-ecb784be7bf4"
      },
      "source": [
        "# 建立物件\n",
        "sever_link = 'bolt://52.91.118.4:33083'\n",
        "pws = 'sevenths-harpoon-jails'\n",
        "\n",
        "recommdation = Neo4jRecomBot('bolt://52.91.118.4:33083', 'sevenths-harpoon-jails', cloth_vec)\n",
        "\n",
        "recommdation.graph"
      ],
      "execution_count": null,
      "outputs": [
        {
          "output_type": "execute_result",
          "data": {
            "text/plain": [
              "Graph('bolt://neo4j@52.91.118.4:33083')"
            ]
          },
          "metadata": {
            "tags": []
          },
          "execution_count": 32
        }
      ]
    },
    {
      "cell_type": "markdown",
      "metadata": {
        "id": "lbjyjV_9npAq"
      },
      "source": [
        "### 模糊搜尋"
      ]
    },
    {
      "cell_type": "code",
      "metadata": {
        "colab": {
          "base_uri": "https://localhost:8080/"
        },
        "id": "8cVGOYQM5GBa",
        "outputId": "b27996dc-d086-4fa6-8e95-89d761eca913"
      },
      "source": [
        "# 隨機生成特徵描述\n",
        "\n",
        "keyword = []\n",
        "word_list = list(cloth_vec)\n",
        "word_num = len(cloth_vec)\n",
        "\n",
        "num = 1\n",
        "ridx = np.random.randint(0, word_num, num)\n",
        "\n",
        "\n",
        "for i in ridx:\n",
        "    word = word_list[i]\n",
        "    keyword.append(word)\n",
        "\n",
        "keyword"
      ],
      "execution_count": null,
      "outputs": [
        {
          "output_type": "execute_result",
          "data": {
            "text/plain": [
              "['棉長褲']"
            ]
          },
          "metadata": {
            "tags": []
          },
          "execution_count": 38
        }
      ]
    },
    {
      "cell_type": "code",
      "metadata": {
        "colab": {
          "base_uri": "https://localhost:8080/"
        },
        "id": "_GcGZ6CheQF0",
        "outputId": "4f45df8a-1445-4767-b85d-7b57424154b5"
      },
      "source": [
        "gender = 'woman'\n",
        "\n",
        "main_recom, main_sn, main_name, main_url, match_score = recommdation.fussy_search(keyword, gender=gender)\n",
        "\n",
        "main_name, match_score"
      ],
      "execution_count": null,
      "outputs": [
        {
          "output_type": "stream",
          "text": [
            "/usr/local/lib/python3.6/dist-packages/ipykernel_launcher.py:41: DeprecationWarning: string or file could not be read to its end due to unmatched data; this will raise a ValueError in the future.\n"
          ],
          "name": "stderr"
        },
        {
          "output_type": "execute_result",
          "data": {
            "text/plain": [
              "('休閒輕便褲', 0.018152396515649333)"
            ]
          },
          "metadata": {
            "tags": []
          },
          "execution_count": 39
        }
      ]
    },
    {
      "cell_type": "markdown",
      "metadata": {
        "id": "C6x6nUJ-ocdM"
      },
      "source": [
        "### 同款搜尋"
      ]
    },
    {
      "cell_type": "code",
      "metadata": {
        "colab": {
          "base_uri": "https://localhost:8080/"
        },
        "id": "4kDLHM26ocHU",
        "outputId": "e7e1bc07-d161-4539-96e1-b8ef16dc0f61"
      },
      "source": [
        "recommdation.same_search(main_recom)"
      ],
      "execution_count": null,
      "outputs": [
        {
          "output_type": "execute_result",
          "data": {
            "text/plain": [
              "(Node('Product', description='窄管褲剪裁的輕便褲。採用外觀乾淨的設計，外出穿也方便。使用觸感柔軟舒適的平織素材，讓穿著感更舒適。腰部和腳踝有高密度羅紋，更合身。米白色', image_url='https://im.uniqlo.com/images/tw/gu/pc/goods/325118/item/30_325118.jpg', name='休閒輕便褲', sn='FL13', vector='0.09307863935828209-0.0455837871413677919.5698366761207583.093698922544718-0.7791512816911563-0.23970863455906510.11401115567423403-4.12436121713835756.2972416223492471.5279800430871546-0.26323886972386390.007235851720906794-1.1236204034648836-0.324919049628078942.01073746895417571.3811230235733092-0.6537337615154684-0.90783396502956751.31158485542982820.7908976235194132-0.67894496207009070.0093757624272257094.735925829038024-1.62569858774077150.33998557110317050.5427217296091840.7329323776066303-1.1407209541357588-0.49879218230489640.020300468197092414-1.45949497818946841.21533414657460531.55052169092232360.8288054049480706-1.47226393106393522.2134980529081076-0.11595311807468534-5.660951932892203-3.73177644051611421.0469575031602290.17307529901154340.107715423218905930.8230712276417762-1.2962419034447521.29362040292471651.083435645326972-6.2202745932154361.7010897239670157-0.90436553745530550.488245977578117163.0288580777123570.41473172977566720.48712343245279044-9.884808899834752-2.37061654799617832.20993819774594163.9127192132582422-3.666544600855559-0.226914716651663180.9539655938278884-0.6893855463713408-2.6206792179727927-1.9743854561820626-0.09399574669077992-2.422759236302227-2.178791306214407-0.37006021477282050.5361615340225399-0.51700305822305380.14586970955133438-2.69200741127133376.263788162730634-0.74385450594127180.06332466122694314-2.2674750378355384-1.38934100365440830.108628442860208453.56002071616239852.589557316969149-0.8458953301887959-2.999025572091341-0.080404430627822880.104046551248757170.88410944934003062.0512039186432958-2.6371411442523821.9169630339019932-0.83165699979872445.1375960605219010.44537156447768210.356216824962757531.4574728170409799-0.653582202270627-0.71652757818810642.82490781554952261.923223739489913-0.463724246248602870.3090511802583933-2.1276205386966467-1.8887564023025334-6.3260463791666552.62515785987488930.0163605959678534423.77470317110419276.250404535327107-0.7967849047854543-2.8807494153734297-0.83754913785378451.8693860038183630.048872406594455242.977994474116713-0.9692983662243932-0.58101188717409971.4478756566531956-0.52842716244049371.0695572560653091.39382930775173-2.33441935619339351.0590263037011027-2.2698289343970828-4.809510808234336-1.657140087801963-1.33252244815230371.4075723975838628-0.851192096597515-2.98577300261240453.7284408044070005-6.8766084108501670.7530914372764528-2.3141826074570417-3.9161132625304163-1.7914633289910853-2.7974511364009231.0204149857163430.9214983617130201-1.3485396519827190.413146031089127061.67671927309129393.5335647967876866-1.62106971628963950.5966493266168982-0.061191742424853146-6.3253583386540411.2172770360484722.1570133208297193-2.3359168372116983-2.2229362172074616-4.9749332087230870.702337471768260.23364700999809438.4147281218320135.295412284467602-2.8592666531912982-1.23129862139467150.264126353959909475.4147154991514980.3182400679215789-1.95543753949459642.06644850445445630.8992422251321841-0.5594917319249362-3.470785568933934-1.9040390248410404-1.66885332250967621.22037428495241330.86203158721400541.18598870519781491.4578547109849750.25995218520984054-0.09730423311702907-1.2835162198171020.7193421741249040.60266987583599983.3446066963952035-2.99078047182410960.970007237046957-5.215826726751402-2.3177410361822695-0.53847824502736330.6533311773091555-0.7391423142980784-5.5084328241646291.4668284575454890.26133165787905455-1.5919460380682722-5.116944625042379-0.8267180224065669-0.4689332491834648-1.116750010522082413.428599265869707-3.39074781810631983.2923642283421941.22203244827687741.7805830549914390.4383884435519576-0.98430915689095852.9919824753887953.0298049654811626.9310337798669932.7572431382723153-3.5912953894585372.489690475864336-1.45510332705453040.79198759500286540.7385526462749112-1.59826004109345380.1729344695850159-2.631368832779117-3.9591578258259688-1.89589382521808150.32221571494301315-1.46017875568941240.9630703081493266-1.887528887251392-1.427970660617575-2.05257371813058851.90729093831032510.08277691435068846-1.51515250676311551.46487766224890950.072361310594715182.4248762417410035-1.90375320287421353.168156878789887-1.29961010348051792.72533514257520440.7660973365418613-1.5505341826356016-3.521287501556799-2.5443562977015972.07473214925266830.310203820466995-2.4046766996616498-0.1680076029151678-0.6617427004966885-1.3149381971525145-0.488785973750054843.994055180810392-0.9893460350576788-0.78639573813416060.288131638895720243.1783065862837248-2.3726843269541860.227501389803364870.26583145419135690.13175460346974432-2.514083624992054-0.6340518812648952-3.124305725796148-1.275237450376153-0.79213454015553-1.4003556119278073-0.5928656981559470.07831989461556077-2.90837016282603140.6197493734071031-0.7548449385212734-1.64828823879361152.3268931536003947-0.07048346055671573-0.45969759346917270.17524589376989752-0.10077742289286107-2.8158039500704035-1.2869533617049456-0.07306672818958761.401629492524082.0367522138985805-1.26883761934004721.48922748953191332.78965937346221.50830044504255060.6836233751382679-1.52217050548642871.9378442103043199-7.256489514373243-0.59006394818425182.812952059925015.211389254953247-1.5410481233848259-10.9300523209385570.27580056758597493-0.3629843310918659-2.55234268901404-0.5107781723163498-0.10112378327175975-2.69667904637753960.98373173549771312.45427894149906930.7401381173986010.54741188656771561.14308411757519931.8140198739711195-1.21831307362299410.91768378065899010.8639790890738368-2.0229107416234911.2050415391568094-0.457208326086401941.5055716759234201'),\n",
              " 'FL13',\n",
              " '休閒輕便褲',\n",
              " 'https://im.uniqlo.com/images/tw/gu/pc/goods/325118/item/30_325118.jpg')"
            ]
          },
          "metadata": {
            "tags": []
          },
          "execution_count": 17
        }
      ]
    },
    {
      "cell_type": "code",
      "metadata": {
        "colab": {
          "base_uri": "https://localhost:8080/",
          "height": 74
        },
        "id": "ZAneTgUate9H",
        "outputId": "490fd1f2-fc1b-48fc-c45e-c9828b97e526"
      },
      "source": [
        "same_recom, same_sn, same_name, same_url = recommdation.fussy_search(keyword, gender='woman')\n",
        "\n",
        "same_name"
      ],
      "execution_count": null,
      "outputs": [
        {
          "output_type": "stream",
          "text": [
            "/usr/local/lib/python3.6/dist-packages/ipykernel_launcher.py:40: DeprecationWarning: string or file could not be read to its end due to unmatched data; this will raise a ValueError in the future.\n"
          ],
          "name": "stderr"
        },
        {
          "output_type": "execute_result",
          "data": {
            "application/vnd.google.colaboratory.intrinsic+json": {
              "type": "string"
            },
            "text/plain": [
              "'Soft RichV領針織長上衣'"
            ]
          },
          "metadata": {
            "tags": []
          },
          "execution_count": 17
        }
      ]
    },
    {
      "cell_type": "markdown",
      "metadata": {
        "id": "DeGN548KnaRW"
      },
      "source": [
        "### 穿搭推薦"
      ]
    },
    {
      "cell_type": "code",
      "metadata": {
        "colab": {
          "base_uri": "https://localhost:8080/"
        },
        "id": "VWrqBu-5oHG5",
        "outputId": "cd017aba-2742-40c8-94ab-2c619a5ef41b"
      },
      "source": [
        "# 一階穿搭\n",
        "fit_recom_first, fit_score_f, fit_sn_f, fit_name_f, fit_url_f = recommdation.fit_search(main_recom, top=1)\n",
        "\n",
        "print('一階穿搭:', fit_name_f, '分數:', fit_score_f)"
      ],
      "execution_count": null,
      "outputs": [
        {
          "output_type": "stream",
          "text": [
            "一階穿搭: 夾層寬版大衣 分數: 0.94\n"
          ],
          "name": "stdout"
        }
      ]
    },
    {
      "cell_type": "code",
      "metadata": {
        "colab": {
          "base_uri": "https://localhost:8080/"
        },
        "id": "DS9KZDDAx-m0",
        "outputId": "bce59eba-570c-460f-f6cf-3683788dd834"
      },
      "source": [
        "# 二階穿搭\n",
        "fit_recom_second, fit_score_s, fit_sn_s, fit_name_s, fit_url_s = recommdation.fit_search(fit_recom_first, top=2)\n",
        "\n",
        "print('二階穿搭:', fit_name_s, '分數:', fit_score_s)"
      ],
      "execution_count": null,
      "outputs": [
        {
          "output_type": "stream",
          "text": [
            "二階穿搭: 羅紋中高領針織衫 分數: 0.849\n"
          ],
          "name": "stdout"
        }
      ]
    },
    {
      "cell_type": "markdown",
      "metadata": {
        "id": "0ZRmx7mpa9tF"
      },
      "source": [
        "# 模糊搜尋"
      ]
    },
    {
      "cell_type": "code",
      "metadata": {
        "colab": {
          "base_uri": "https://localhost:8080/",
          "height": 92
        },
        "id": "WGq-gJK1a8pO",
        "outputId": "34229094-15b1-44d0-eb6c-a8ad32b3ccf0"
      },
      "source": [
        "keyword = ['保暖', '毛衣']\n",
        "gender = 'woman'\n",
        "\n",
        "main_recom, main_sn, main_name, main_url = recommdation.fussy_search(keyword, gender=gender)\n",
        "# 注意這邊性別改為女生所以推薦結果會不一樣\n",
        "print('模糊搜尋:')\n",
        "main_name"
      ],
      "execution_count": null,
      "outputs": [
        {
          "output_type": "stream",
          "text": [
            "模糊搜尋:\n"
          ],
          "name": "stdout"
        },
        {
          "output_type": "stream",
          "text": [
            "/usr/local/lib/python3.6/dist-packages/ipykernel_launcher.py:40: DeprecationWarning: string or file could not be read to its end due to unmatched data; this will raise a ValueError in the future.\n"
          ],
          "name": "stderr"
        },
        {
          "output_type": "execute_result",
          "data": {
            "application/vnd.google.colaboratory.intrinsic+json": {
              "type": "string"
            },
            "text/plain": [
              "'連帽針織長上衣'"
            ]
          },
          "metadata": {
            "tags": []
          },
          "execution_count": 24
        }
      ]
    }
  ]
}