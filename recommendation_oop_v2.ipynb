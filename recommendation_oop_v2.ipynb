{
  "nbformat": 4,
  "nbformat_minor": 0,
  "metadata": {
    "colab": {
      "name": "recommendation_oop_v2.ipynb",
      "provenance": [],
      "collapsed_sections": [],
      "toc_visible": true,
      "mount_file_id": "1WYr4AVzE8TOJQzdqdBPAk6h_WAoyGoxO",
      "authorship_tag": "ABX9TyOMu97c+l/iibcejnTLyX+E",
      "include_colab_link": true
    },
    "kernelspec": {
      "name": "python3",
      "display_name": "Python 3"
    }
  },
  "cells": [
    {
      "cell_type": "markdown",
      "metadata": {
        "id": "view-in-github",
        "colab_type": "text"
      },
      "source": [
        "<a href=\"https://colab.research.google.com/github/panghanwu/tibame_project/blob/main/recommendation_oop_v2.ipynb\" target=\"_parent\"><img src=\"https://colab.research.google.com/assets/colab-badge.svg\" alt=\"Open In Colab\"/></a>"
      ]
    },
    {
      "cell_type": "markdown",
      "metadata": {
        "id": "3qgKP2qlZSc7"
      },
      "source": [
        "# 模糊搜尋功能 v2\n",
        "---\n",
        "\n",
        "### 會使用到的套件\n",
        "- py2neo\n",
        "- pandas\n",
        "- numpy"
      ]
    },
    {
      "cell_type": "code",
      "metadata": {
        "colab": {
          "base_uri": "https://localhost:8080/",
          "height": 1000
        },
        "id": "D11X3ygE3czG",
        "outputId": "9b340c24-9c31-45c4-c8a7-0b4535666b05"
      },
      "source": [
        "# py2neo是python控制neo4j的套件\n",
        "# Colab並未內建需要另外安裝\n",
        "!pip install py2neo"
      ],
      "execution_count": 1,
      "outputs": [
        {
          "output_type": "stream",
          "text": [
            "Collecting py2neo\n",
            "\u001b[?25l  Downloading https://files.pythonhosted.org/packages/4f/86/4cb8118794ab5965335bc8f3315c414a05cbbe5d9f978f8fcbed1bc819af/py2neo-2020.1.1-py2.py3-none-any.whl (185kB)\n",
            "\u001b[K     |████████████████████████████████| 194kB 10.2MB/s \n",
            "\u001b[?25hCollecting cryptography\n",
            "\u001b[?25l  Downloading https://files.pythonhosted.org/packages/4c/a2/6565c5271a79e3c96d7a079053b4d8408a740d4bf365f0f5f244a807bd09/cryptography-3.2.1-cp35-abi3-manylinux2010_x86_64.whl (2.6MB)\n",
            "\u001b[K     |████████████████████████████████| 2.6MB 18.4MB/s \n",
            "\u001b[?25hCollecting english\n",
            "  Downloading https://files.pythonhosted.org/packages/05/1d/f1dd2cbd075c049a753815a0d1f29f29be3c09a62fb01a9ba74356bfee08/english-2020.7.0-py2.py3-none-any.whl\n",
            "Collecting monotonic\n",
            "  Downloading https://files.pythonhosted.org/packages/ac/aa/063eca6a416f397bd99552c534c6d11d57f58f2e94c14780f3bbf818c4cf/monotonic-1.5-py2.py3-none-any.whl\n",
            "Collecting pansi>=2020.7.3\n",
            "  Downloading https://files.pythonhosted.org/packages/0b/15/7972e08b7ec14a8b10d5ff206c644d4478906c909c134123ed7e6bd16724/pansi-2020.7.3-py2.py3-none-any.whl\n",
            "Requirement already satisfied: pygments>=2.0.0 in /usr/local/lib/python3.6/dist-packages (from py2neo) (2.6.1)\n",
            "Requirement already satisfied: six>=1.15.0 in /usr/local/lib/python3.6/dist-packages (from py2neo) (1.15.0)\n",
            "Requirement already satisfied: urllib3 in /usr/local/lib/python3.6/dist-packages (from py2neo) (1.24.3)\n",
            "Requirement already satisfied: certifi in /usr/local/lib/python3.6/dist-packages (from py2neo) (2020.11.8)\n",
            "Collecting prompt-toolkit~=2.0.7\n",
            "\u001b[?25l  Downloading https://files.pythonhosted.org/packages/87/61/2dfea88583d5454e3a64f9308a686071d58d59a55db638268a6413e1eb6d/prompt_toolkit-2.0.10-py3-none-any.whl (340kB)\n",
            "\u001b[K     |████████████████████████████████| 348kB 50.2MB/s \n",
            "\u001b[?25hCollecting docker\n",
            "\u001b[?25l  Downloading https://files.pythonhosted.org/packages/ef/b7/eb7b7138bb5e6d28cf84fa586fe594619ca097b6207caa5f2ebe0c66a4ed/docker-4.4.0-py2.py3-none-any.whl (146kB)\n",
            "\u001b[K     |████████████████████████████████| 153kB 47.9MB/s \n",
            "\u001b[?25hRequirement already satisfied: pytz in /usr/local/lib/python3.6/dist-packages (from py2neo) (2018.9)\n",
            "Collecting neotime~=1.7.4\n",
            "  Downloading https://files.pythonhosted.org/packages/0b/7e/ca368a8d8e288be1352d4e2df35da1e01f8aaffbf526695df71630bcb8a6/neotime-1.7.4.tar.gz\n",
            "Requirement already satisfied: packaging in /usr/local/lib/python3.6/dist-packages (from py2neo) (20.4)\n",
            "Requirement already satisfied: cffi!=1.11.3,>=1.8 in /usr/local/lib/python3.6/dist-packages (from cryptography->py2neo) (1.14.3)\n",
            "Requirement already satisfied: wcwidth in /usr/local/lib/python3.6/dist-packages (from prompt-toolkit~=2.0.7->py2neo) (0.2.5)\n",
            "Requirement already satisfied: requests!=2.18.0,>=2.14.2 in /usr/local/lib/python3.6/dist-packages (from docker->py2neo) (2.23.0)\n",
            "Collecting websocket-client>=0.32.0\n",
            "\u001b[?25l  Downloading https://files.pythonhosted.org/packages/4c/5f/f61b420143ed1c8dc69f9eaec5ff1ac36109d52c80de49d66e0c36c3dfdf/websocket_client-0.57.0-py2.py3-none-any.whl (200kB)\n",
            "\u001b[K     |████████████████████████████████| 204kB 47.9MB/s \n",
            "\u001b[?25hRequirement already satisfied: pyparsing>=2.0.2 in /usr/local/lib/python3.6/dist-packages (from packaging->py2neo) (2.4.7)\n",
            "Requirement already satisfied: pycparser in /usr/local/lib/python3.6/dist-packages (from cffi!=1.11.3,>=1.8->cryptography->py2neo) (2.20)\n",
            "Requirement already satisfied: chardet<4,>=3.0.2 in /usr/local/lib/python3.6/dist-packages (from requests!=2.18.0,>=2.14.2->docker->py2neo) (3.0.4)\n",
            "Requirement already satisfied: idna<3,>=2.5 in /usr/local/lib/python3.6/dist-packages (from requests!=2.18.0,>=2.14.2->docker->py2neo) (2.10)\n",
            "Building wheels for collected packages: neotime\n",
            "  Building wheel for neotime (setup.py) ... \u001b[?25l\u001b[?25hdone\n",
            "  Created wheel for neotime: filename=neotime-1.7.4-cp36-none-any.whl size=20543 sha256=39763a70d1478dccb42715d2cca8b54be1833bc1afa8c3452c0df30b2d8a13a5\n",
            "  Stored in directory: /root/.cache/pip/wheels/d4/b4/c4/ab867cd0ac9e667f8cd269f9364fd1cb8ee75fe50f5ce97c79\n",
            "Successfully built neotime\n",
            "\u001b[31mERROR: jupyter-console 5.2.0 has requirement prompt-toolkit<2.0.0,>=1.0.0, but you'll have prompt-toolkit 2.0.10 which is incompatible.\u001b[0m\n",
            "\u001b[31mERROR: ipython 5.5.0 has requirement prompt-toolkit<2.0.0,>=1.0.4, but you'll have prompt-toolkit 2.0.10 which is incompatible.\u001b[0m\n",
            "Installing collected packages: cryptography, english, monotonic, pansi, prompt-toolkit, websocket-client, docker, neotime, py2neo\n",
            "  Found existing installation: prompt-toolkit 1.0.18\n",
            "    Uninstalling prompt-toolkit-1.0.18:\n",
            "      Successfully uninstalled prompt-toolkit-1.0.18\n",
            "Successfully installed cryptography-3.2.1 docker-4.4.0 english-2020.7.0 monotonic-1.5 neotime-1.7.4 pansi-2020.7.3 prompt-toolkit-2.0.10 py2neo-2020.1.1 websocket-client-0.57.0\n"
          ],
          "name": "stdout"
        },
        {
          "output_type": "display_data",
          "data": {
            "application/vnd.colab-display-data+json": {
              "pip_warning": {
                "packages": [
                  "prompt_toolkit"
                ]
              }
            }
          },
          "metadata": {
            "tags": []
          }
        }
      ]
    },
    {
      "cell_type": "code",
      "metadata": {
        "id": "kiiOT5ElBjXG"
      },
      "source": [
        "import numpy as np\n",
        "import pandas as pd\n",
        "import py2neo as neo\n",
        "\n",
        "\n",
        "class Neo4jRecomBot():\n",
        "    # 1. __init__: 連上Neo4j伺服器\n",
        "    # 2. fussy_search: 模糊搜尋\n",
        "    # 3. same_search: 同款搜尋\n",
        "    # 4. fit_search: 穿搭搜尋\n",
        "    def __init__(self, sever_link, password, word2vec_path):\n",
        "        # 載入圖資料庫\n",
        "        self.graph = neo.Graph(sever_link, password=password)\n",
        "        # 提取出產品清單\n",
        "        self.product_list = list(neo.NodeMatch(self.graph, labels=frozenset(['Product'])))\n",
        "        \n",
        "        # 載入語料詞向量檔\n",
        "        cloth_model_df = pd.read_csv(word2vec_path)\n",
        "        cloth_vec = {}\n",
        "        for i in range(len(cloth_model_df)):\n",
        "            vector = cloth_model_df['vec'][i]\n",
        "            vector = vector.replace('\\n','')\n",
        "            vector = vector.replace('[','')\n",
        "            vector = vector.replace(']','')\n",
        "            vector = np.fromstring(vector, sep=' ')\n",
        "            cloth_vec[cloth_model_df['cht'][i]] = vector\n",
        "\n",
        "        self.cloth_vec = cloth_vec\n",
        "    \n",
        "\n",
        "    def fussy_search(self, keyword, gender=None):\n",
        "        assert gender in ['man', 'woman', None]\n",
        "        \n",
        "        # 依據性別更改商品節點清單\n",
        "        if gender == 'man':\n",
        "            search_list = [x for x in self.product_list if x['sn'][0]=='M']\n",
        "        elif gender == 'woman':\n",
        "            search_list = [x for x in self.product_list if x['sn'][0]=='F']\n",
        "        else:\n",
        "            search_list = self.product_list\n",
        "\n",
        "        # 把辨識描述用word2vec轉成300為的詞向量\n",
        "        key_vec = np.zeros(300)\n",
        "        for d in keyword:\n",
        "            # 所有詞向量加總\n",
        "            key_vec += self.cloth_vec[d]\n",
        "\n",
        "        # 把產品詞向量存成矩陣\n",
        "        pro_vec = np.empty((len(search_list),300))\n",
        "        for i, n in enumerate(search_list):\n",
        "            str_vec = n['vector']\n",
        "            pro_vec[i] = np.fromstring(str_vec, sep=' ')\n",
        "        \n",
        "        # 找出夾角最小（最大cos）商品的索引\n",
        "        dot  = np.dot(key_vec, pro_vec.T)\n",
        "        norm = np.linalg.norm(key_vec) * np.linalg.norm(pro_vec, axis=1)\n",
        "        cos  = dot / norm\n",
        "        idx  = np.argmax(cos)\n",
        "        sco  = np.max(cos)\n",
        "\n",
        "        return (search_list[idx],\n",
        "                search_list[idx]['sn'], \n",
        "                search_list[idx]['name'], \n",
        "                search_list[idx]['image_url'],\n",
        "                round(sco, 3))\n",
        "        \n",
        "    # 輸入商品節點回傳同款商品\n",
        "    def same_search(self, product):\n",
        "        same_relate = list(neo.RelationshipMatch(self.graph, \n",
        "                                                 nodes=[product], \n",
        "                                                 r_type='SAME'))\n",
        "        print(same_relate)\n",
        "        same_node = same_relate[0].end_node\n",
        "        if same_node != []:\n",
        "            return (same_node,\n",
        "                    same_node['sn'],\n",
        "                    same_node['name'],\n",
        "                    same_node['image_url'])\n",
        "        else:\n",
        "            return '無同款'   \n",
        "\n",
        "    def fit_search(self, product, top=1):\n",
        "        fit_relate = neo.RelationshipMatch(self.graph, nodes=[product], r_type='FIT')\n",
        "        fit_rank = list(fit_relate.order_by('_.score DESC'))\n",
        "        fit_score = fit_rank[top-1]['score']\n",
        "        fit_node = fit_rank[top-1].end_node\n",
        "        return (fit_node, \n",
        "                fit_score,\n",
        "                fit_node['sn'],\n",
        "                fit_node['name'],\n",
        "                fit_node['image_url'])\n"
      ],
      "execution_count": 2,
      "outputs": []
    },
    {
      "cell_type": "markdown",
      "metadata": {
        "id": "ZNlRALtM4Hsg"
      },
      "source": [
        "### 範例"
      ]
    },
    {
      "cell_type": "code",
      "metadata": {
        "id": "9WBgj7vcEWGh",
        "colab": {
          "base_uri": "https://localhost:8080/"
        },
        "outputId": "76fea4d4-0c0b-4e12-d166-638c6c818beb"
      },
      "source": [
        "# 建立物件\n",
        "sever_link = 'bolt://52.91.118.4:33083'\n",
        "pws = 'sevenths-harpoon-jails'\n",
        "word2vec_path = 'cloth_word_vec.csv'\n",
        "\n",
        "recommdation = Neo4jRecomBot('bolt://52.91.118.4:33083', 'sevenths-harpoon-jails', word2vec_path)\n",
        "\n",
        "recommdation.graph"
      ],
      "execution_count": 3,
      "outputs": [
        {
          "output_type": "execute_result",
          "data": {
            "text/plain": [
              "Graph('bolt://neo4j@52.91.118.4:33083')"
            ]
          },
          "metadata": {
            "tags": []
          },
          "execution_count": 3
        }
      ]
    },
    {
      "cell_type": "markdown",
      "metadata": {
        "id": "lbjyjV_9npAq"
      },
      "source": [
        "### 模糊搜尋"
      ]
    },
    {
      "cell_type": "code",
      "metadata": {
        "colab": {
          "base_uri": "https://localhost:8080/"
        },
        "id": "8cVGOYQM5GBa",
        "outputId": "6fb7bcac-e54a-45c1-f7a9-0e8464b69be9"
      },
      "source": [
        "# 隨機生成特徵描述\n",
        "\n",
        "keyword = []\n",
        "word_list = list(recommdation.cloth_vec)\n",
        "word_num = len(word_list)\n",
        "\n",
        "num = 3\n",
        "ridx = np.random.randint(0, word_num, num)\n",
        "\n",
        "\n",
        "for i in ridx:\n",
        "    word = word_list[i]\n",
        "    keyword.append(word)\n",
        "\n",
        "keyword"
      ],
      "execution_count": 4,
      "outputs": [
        {
          "output_type": "execute_result",
          "data": {
            "text/plain": [
              "['夾克', '連身衣', '女裝襯衫']"
            ]
          },
          "metadata": {
            "tags": []
          },
          "execution_count": 4
        }
      ]
    },
    {
      "cell_type": "code",
      "metadata": {
        "colab": {
          "base_uri": "https://localhost:8080/"
        },
        "id": "_GcGZ6CheQF0",
        "outputId": "c05f1176-4658-42a1-d7d2-9610fd175502"
      },
      "source": [
        "gender = 'woman'\n",
        "\n",
        "main_recom, main_sn, main_name, main_url, match_score = recommdation.fussy_search(keyword, gender=gender)\n",
        "\n",
        "main_sn, main_name, match_score"
      ],
      "execution_count": 5,
      "outputs": [
        {
          "output_type": "stream",
          "text": [
            "/usr/local/lib/python3.6/dist-packages/ipykernel_launcher.py:52: DeprecationWarning: string or file could not be read to its end due to unmatched data; this will raise a ValueError in the future.\n"
          ],
          "name": "stderr"
        },
        {
          "output_type": "execute_result",
          "data": {
            "text/plain": [
              "('FL06', '系列-高腰牛仔緊身褲', 0.055)"
            ]
          },
          "metadata": {
            "tags": []
          },
          "execution_count": 5
        }
      ]
    },
    {
      "cell_type": "markdown",
      "metadata": {
        "id": "DeGN548KnaRW"
      },
      "source": [
        "### 穿搭推薦"
      ]
    },
    {
      "cell_type": "code",
      "metadata": {
        "colab": {
          "base_uri": "https://localhost:8080/"
        },
        "id": "VWrqBu-5oHG5",
        "outputId": "8f2b6cae-8fbc-460c-c70d-ef83e7211bd5"
      },
      "source": [
        "# 一階穿搭\n",
        "fit_recom_first, fit_score_f, fit_sn_f, fit_name_f, fit_url_f = recommdation.fit_search(main_recom, top=1)\n",
        "\n",
        "print('一階穿搭:', fit_name_f, '分數:', fit_score_f)"
      ],
      "execution_count": 6,
      "outputs": [
        {
          "output_type": "stream",
          "text": [
            "一階穿搭: Soft RichV領針織長上衣 分數: 0.849\n"
          ],
          "name": "stdout"
        }
      ]
    },
    {
      "cell_type": "code",
      "metadata": {
        "colab": {
          "base_uri": "https://localhost:8080/"
        },
        "id": "DS9KZDDAx-m0",
        "outputId": "2f2897e8-612d-4d19-8acf-29e5891b83ef"
      },
      "source": [
        "# 二階穿搭\n",
        "fit_recom_second, fit_score_s, fit_sn_s, fit_name_s, fit_url_s = recommdation.fit_search(fit_recom_first, top=2)\n",
        "\n",
        "print('二階穿搭:', fit_name_s, '分數:', fit_score_s)"
      ],
      "execution_count": 7,
      "outputs": [
        {
          "output_type": "stream",
          "text": [
            "二階穿搭: 系列-高腰牛仔緊身褲 分數: 0.849\n"
          ],
          "name": "stdout"
        }
      ]
    },
    {
      "cell_type": "markdown",
      "metadata": {
        "id": "C6x6nUJ-ocdM"
      },
      "source": [
        "### 同款搜尋"
      ]
    },
    {
      "cell_type": "code",
      "metadata": {
        "colab": {
          "base_uri": "https://localhost:8080/"
        },
        "id": "ZAneTgUate9H",
        "outputId": "822c42bf-834b-45f0-bedb-e1d921c8c9fe"
      },
      "source": [
        "same_recom, same_sn, same_name, same_url = recommdation.same_search(main_recom)\n",
        "\n",
        "same_sn, same_name"
      ],
      "execution_count": 8,
      "outputs": [
        {
          "output_type": "stream",
          "text": [
            "[SAME(Node('Product', description='必備1件的基本款牛仔緊身褲。高腰版型，可拉長腿部視覺效果。深藍', image_url='https://im.uniqlo.com/images/tw/gu/pc/goods/327815/item/68_327815.jpg', name='系列-高腰牛仔緊身褲', sn='FL06', vector='0.8623438761569560.31698289490304897.1103572025895121.1112676961347460.166635485365986821.9409478027373552-1.0903679877519608-1.17968638613820082.0183245921507478-0.24691436812281609-0.230401667300611730.015431974083185196-0.0258632879704237-0.28835577890276911.0763966180384160.5483705615624785-1.0812293803028297-0.08730277733411640.3919586273841560.62363846180960540.16109015521942638-0.064816567348316311.12762435339391230.2552086854702793-0.198929798789322380.96876326389610770.158192310482263570.2773163001984358-0.50248623639345170.08042053168173880.5929635651409626-0.09220483759418130.63206293061375620.9249431106727570.403417314169928430.83259260025806730.9992027275729924-1.7249435791745782-0.57714936090633270.8897751993063139-0.09815982799045742-0.34493593405932190.1591554624028504-0.0141434729448519650.140436173416674140.06336036510765553-2.0126985800452530.65301410411484540.08280742261558771-0.360187089070677760.5612809034064412-0.68520336411893370.29687878396362066-4.416477344930172-0.408434606157243251.61436145193874842.78961834474466740.19188396772369742-1.221872606780381.2011825609952211-0.4419045782997273-0.11810204014182091-0.198332541622221470.8472621571272612-1.18793829344213-0.7031285563716665-0.227130941115319730.75547356344759460.061742648482322690.7613341659307480.064686933532357222.6799816582351923-0.76469500968232751.0767810689285398-1.68639353569597-0.16078988103254233-0.113683588802814480.8110597254708409-0.4291145894676447-0.654422192601487-1.36697551002725960.8261306895874441-0.019410469569265842-1.2145543722435832-0.30861635226756334-0.223352476023137570.0668604998209048-0.91932331406860611.95858335867524151.9239718085154890.9542994461953641.133717171382159-0.9855667960364372-0.015047347173094751.16286799544468520.03905237122671679-0.38396031490992755-0.07685993984341621-1.01725413929671050.3896242883056402-2.7818395309150220.22717943461611867-0.399123846553266050.60577027840190572.494012689217925-0.7646659347228706-0.6419844096526504-0.56522678505280060.088808380067348480.15796233434230090.9209407279267907-1.14645939320325850.27418315364047885-0.28661804099101573-1.10453594103455540.20794965303502977-0.10290911607444286-0.5650969352573156-0.051804281771183014-0.71292035281658170.42786149214953184-0.14892991067608818-0.95713134296238420.7936551221646369-0.8436694954580162-0.63413356244564061.5043749399483204-2.2908921891357750.43375704484060407-0.9724312643520534-1.7018723944202065-0.529146624263376-1.0171645890659420.9567726161330938-0.5131108677014709-0.6052748213696759-0.040977082215249540.25149248598609123.1165569219738245-1.3375298052560538-0.9007741682289634-0.23328989162109792-2.110496222972870.48254353459924460.9852272211574018-0.5624105283059180.05920219421386719-0.44969633780419827-0.07050625514239073-0.181486780289560562.52679118141531941.5866940440610051-0.8637628643773496-0.91656819125637410.94180762337055061.20094419596716761.138954902999103-0.54472852637991311.1093563616741449-0.34845326584763825-0.0037420352455228567-1.6266685985028744-1.1095624174922705-0.434293000027537351.54206576943397520.61022822558879850.068178043700754640.48206492792814970.57360682357102630.3468547615339048-0.08577989041805267-0.77473431878024711.09191716276109222.1558659414295107-0.72903454303741460.6256809230835643-1.17312102392315861.12185047240927821.5175871511455625-0.15197384636849165-0.7464398704469204-2.15500426478683950.31949682696722450.09143193159252405-0.18392239743843675-0.879821153706871-0.48447832674719393-0.219593727029860020.95998543454334145.525105386972427-1.23247463139705360.3776204027235508-0.69556893059052530.5302861332893372-0.027295693289488554-0.9777291389182210.51811553258448840.042570479214191441.8257978791370988-0.06954542722087353-0.178966695442795750.26725259225349873-0.7388820336200297-0.441584679618245-0.99437005916843190.08553481762646697-0.37863742969784653-0.3448310288367793-1.181370492093265-0.3226357722305693-0.026432488346472383-0.3156380271539092-0.9232209823094308-0.5571886666584760.4323622453957796-0.6342910733073951.4193534015212208-0.7367046433500946-1.3553701760247350.04781401343643665-0.45017769420519470.7440973147749901-1.07964980439282951.2227589236572385-1.09957829873019360.76462259236723181.0477985492907465-0.728989369032206-0.95886057522147890.30097908526659010.600215708836913111.64987063407898-1.2953044428140856-0.99070387333631521.4714575111283920.7070455120774568-0.43068424798548221.8796192079316825-0.15513631224166602-0.62651854800060390.39012266416102650.31913851387798786-0.016515107141458430.00237574893981218340.3513825844274834-0.1314451014623046-0.83303935546427970.05811626650393009-1.0702236599754542-0.29209522530436516-1.2536499686539173-0.16700153704732656-0.42316343722632155-0.33899683342315257-0.097161912359297280.55083837360143660.9557169588515535-0.38250585645437241.4924964765086770.16274793818593025-0.484820338897407050.58029817044734950.6804631724953651-0.7890549508156255-0.077064474578946830.31316207908093930.60386257898062470.7556272342335433-1.67770336382091050.56176817353843940.5159044619649649-0.73361079581081870.43139251135289670.07461779005825520.718337532132864-2.7099133506417274-0.02468714304268360.07966535631567240.4450061433017254-0.5972795350244269-5.0259579420089720.452266026288270950.7208485598675907-1.1965182743733749-0.63392019085586070.502556542516686-0.79158626869320870.7932867172639817-1.0837007090449333-0.65227597532793880.57663729519117620.27457640580541920.6320421714335680.81493744289036840.25822359882295130.0043493732810020450.23885620106011630.38979922188445926-0.71879487243131730.14174394961446524'), Node('Product', description='必備1件的基本款牛仔緊身褲。高腰版型，可拉長腿部視覺效果。淺藍', image_url='https://im.uniqlo.com/images/tw/gu/pc/goods/327815/item/65_327815.jpg', name='系列-高腰牛仔緊身褲', sn='FL05', vector='0.82234821887686850.48336036293767396.8879485353827481.11232001613825560.11307973787188531.5988573301583529-0.6720496118068695-1.29076217487454412.0250284457579255-0.355038333684206-0.37694858992472290.045302871614694595-0.20128924213349820.170027274638414381.2498205881565810.28768667858093977-0.9720349264971446-0.10579400078859180.334695940837264060.77930980967357750.0255021984630730.19700772757641971.19637947343289850.39284190855687484-0.52954836655408140.78479109145700930.358647998422384260.18840348161756992-0.7219725623726845-0.0139994953060522680.3631970100104809-0.12604445079341530.41094781085848810.81501906621269880.73290145653299990.87176709738560021.2046573006082326-1.9787727231159806-0.82582474453374741.050627912816708-0.11956659774295986-0.36477380152791740.24743210943415760.25916269567096606-0.217512455768883230.12722369097173214-1.9155113887973130.33435174380429090.6629773015156388-0.78079544194042680.46403175313025713-0.62506371643394230.6377307241782546-4.490161187946796-0.45045616384595631.4846032196655873.041106464108452-0.24473766842857003-1.27321029873564841.241129668429494-0.8475358969881199-0.4136129878461361-0.031522634439170361.0382899101823568-1.3477668669074774-0.1686698073754087-0.189626418985426430.55824134685099120.44918829947710040.87560740113258360.0094899032264947892.8878173772245646-0.80795273790135981.1557009778916836-1.6211245125159621-0.15068848816736136-0.20429898053407671.080558380112052-0.5116174630820751-0.7596419628243893-1.08197467168793080.6485404088161886-0.12131385272368789-0.8509384272620082-0.31766701955348253-0.07085566874593496-0.60990573556046-0.8876084723451641.84908965602517132.0976858502253890.97202505916357041.1158683742396533-0.7287465047556907-0.2863368373364210.9472429403103888-0.011744126386474818-0.2803375431103632-0.20412081852555275-1.1014380780979990.3269320731051266-2.59476951148826630.18932486744597554-0.60195461567491290.62310118568711912.1388513799756765-0.7338718357495964-0.7398306494578719-0.47569515477516690.281797461211681370.29264796990901230.9449023017659783-0.86697619035840030.23442910192534328-0.15586857695598155-0.62640154734253880.42750358185730875-0.24455792363733053-0.25558247230947020.10496044531464577-0.50995324552059170.620735147036612-0.1661400487064384-1.11601755209267140.20232060039415956-0.6747037013119552-0.30284601449966431.3687996454536915-2.44258013903163370.3742106114514172-0.8619045387022197-1.4935123296454549-0.288684771861881-1.24868787189188881.0460218098014593-0.33057628851383924-0.41346989080193450.1775561785325408-0.111815809621475643.137938031926751-1.4464700787793845-0.66287482008920050.15473410324193537-2.07109772413969040.83076611999422311.1853422760032117-0.5587886967696250.004202008247375488-0.282661532983183860.31607640627771616-0.58509761327877642.52868520841002461.6312510641291738-0.8513775109313428-0.44027852034196261.05397972033824770.99653241364285351.1170787019655108-0.68300834437832240.7573858380783349-0.48761290055699646-0.2756620754953474-1.7079165987670422-0.945208391174674-0.123109756037592891.14633483439683910.44877438992261887-0.084746104665100570.451201613061130050.68745253328233960.68737086682813240.3154266029596329-0.99907216482097281.21097678504884242.3924046794418246-0.86665817350149150.35005180499865673-1.22459696605801581.0245848712511360.9483943989034742-0.15390718262642622-0.8149421699345112-2.37938225455582140.24299882142804563-0.07132768165320158-0.04838127130642533-0.9486030287807807-0.5255375227425247-0.282310151495039460.57391995890066035.387549430131912-1.03955084341578190.44223112240433693-0.5338614101056010.37588527053594590.41276460187509656-0.77652779687196020.5157681042328477-0.000169191509485244751.891676970757544-0.17237379576545210.07792940549552440.25786790053825825-0.4583677598275244-0.4539004595426377-0.8883094071061350.3665480940544512-0.6566959734991542-0.6128152253804728-1.4539057863876224-0.360007705690804870.2055205216165632-0.8100970750674605-0.8391447912435979-0.63077024859376250.33133296854794025-0.441072447225451471.5786915181670338-1.179857816081494-1.2636428298428655-0.10700592212378979-0.49452321464195850.5399432145059109-1.33697126642800871.336184469051659-0.93577874834591060.64679512474685911.270221862476319-0.6522965792391915-0.89643593039363620.66293943673372270.4955424647778272612.009611368179321-1.3986995732993819-1.07316144555807110.88761734956642610.6359163241359056-0.377475598827004431.76136671449057760.020111163263209164-0.54540724167600270.6207611085847020.282658683136105540.020112142650759780.070386235602200030.6627694974886253-0.07494986709207296-1.06171354372054340.269604267552495-1.108484388096258-0.4943603165447712-1.141774408519268-0.1564459791406989-0.273683633597102-0.4082784971687943-0.27814371231943370.59865715354681020.7152744891354814-0.258653532713651661.4339846791699529-0.0007483065128326416-0.62071016710251570.29477456212043760.5618629418313503-0.961927501601167-0.176875968929380180.140284245833754540.270648184232413770.555928961141035-1.64798465184867380.65597097512363690.4686164911836386-0.90973636321723460.4234409835189581-0.324225334450602530.55965356528759-3.0028072372078896-0.13736798055469990.100838654674589630.11946909502148628-1.0518913579871878-5.32230951637029650.27911412902176380.5970789860002697-1.2031562648480758-0.89229768700897690.5246156776556745-0.62481946870684620.8416345256846398-1.2571835741400719-0.73493836401030420.48917553119827060.59384799077815840.6302753966301680.76595619355794040.6336113046854734-0.0456050708889961240.0144896078854799270.6032042871229351-0.64872218426899050.23942615743726492'))]\n"
          ],
          "name": "stdout"
        },
        {
          "output_type": "execute_result",
          "data": {
            "text/plain": [
              "('FL05', '系列-高腰牛仔緊身褲')"
            ]
          },
          "metadata": {
            "tags": []
          },
          "execution_count": 8
        }
      ]
    }
  ]
}